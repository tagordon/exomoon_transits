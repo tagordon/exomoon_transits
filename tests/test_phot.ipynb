{
 "cells": [
  {
   "cell_type": "code",
   "execution_count": 1,
   "metadata": {},
   "outputs": [],
   "source": [
    "import ctypes\n",
    "from ctypes import byref\n",
    "clib = ctypes.CDLL(\"../fortran/wrapper.so\")\n",
    "clib.flux.restype = None"
   ]
  },
  {
   "cell_type": "code",
   "execution_count": 2,
   "metadata": {},
   "outputs": [],
   "source": [
    "def flux_numerical(u1, u2, rp, rm, bp, bpm, theta, nn):\n",
    "    \n",
    "    xp, yp = -bp, 0.0\n",
    "    xm, ym = -bp + bpm * np.cos(theta), bpm * np.sin(theta)\n",
    "    \n",
    "    ld = lambda p: [\n",
    "        1 - u1 * (1 - np.sqrt(1 - p[0]**2 - p[1]**2)) \n",
    "        - u2 * (1 - np.sqrt(1 - p[0]**2 - p[1]**2))**2 \n",
    "        for p in p\n",
    "    ]\n",
    "    ld1 = 1 - u1 - 2 * u2\n",
    "    ld2 = u1 + 2 * u2\n",
    "    ld3 = u2\n",
    "    \n",
    "    norm = ld1 * np.pi + ld2 * 2 * np.pi / 3 + ld3 * np.pi / 2\n",
    "    rp2 = rp * rp\n",
    "    rm2 = rm * rm\n",
    "    bpm = np.sqrt((xp - xm)**2 + (yp - ym)**2)\n",
    "    \n",
    "    res = nn ** 2\n",
    "\n",
    "    if bpm < (rp + rm):\n",
    "        \n",
    "        if bpm + rm > rp:\n",
    "            scale = 2 * (bpm + rm) + rm / 10\n",
    "        else: \n",
    "            scale = 2 * rp + rm / 10\n",
    "        \n",
    "        n = int(np.sqrt(res * (4 * rp) ** 2))\n",
    "        rat = np.sqrt(3) / 2\n",
    "        nx = int(np.sqrt(n / rat))\n",
    "        ny = n // nx\n",
    "        xv, yv = np.meshgrid(np.arange(nx), np.arange(ny))\n",
    "        xv = xv * rat\n",
    "        xv[::2, :] += rat / 2\n",
    "        xv = xv / len(xv) * scale + xp - scale / 2\n",
    "        yv = yv / len(yv) * scale + yp - scale / 2\n",
    "        points = np.concatenate((xv.flatten()[:, None], yv.flatten()[:, None]), axis=1)\n",
    "    else:\n",
    "        lxp = xp - rp\n",
    "        uxp = xp + rp\n",
    "        lxm = xm - rm\n",
    "        uxm = xm + rm\n",
    "    \n",
    "        lyp = yp - rp\n",
    "        uyp = yp + rp\n",
    "        lym = ym - rm\n",
    "        uym = ym + rm\n",
    "    \n",
    "        nump = int(np.sqrt(res * (2 * rp) ** 2))\n",
    "        rat = np.sqrt(3) / 2\n",
    "        nxp = int(np.sqrt(nump / rat))\n",
    "        nyp = nump // nxp\n",
    "        xvp, yvp = np.meshgrid(np.arange(nxp), np.arange(nyp))\n",
    "        xvp = xvp * ratio\n",
    "        xvp[::2, :] += rat / 2\n",
    "        xvp = xvp / len(xvp) * 2 * rp + xp - rp\n",
    "        yvp = yvp / len(yvp) * 2 * rp + yp - rp\n",
    "        pointsp = np.concatenate((xvp.flatten()[:, None], yvp.flatten()[:, None]), axis=1)\n",
    "        \n",
    "        numm = int(np.sqrt(res * (2 * rm) ** 2))\n",
    "        rat = np.sqrt(3) / 2\n",
    "        nxm = int(np.sqrt(numm / rat))\n",
    "        nym = numm // nxm\n",
    "        xvm, yvm = np.meshgrid(np.arange(nxm), np.arange(nym))\n",
    "        xvm = xvm * ratio\n",
    "        xvm[::2, :] += rat / 2\n",
    "        xvm = xvm / len(xvm) * 2 * rm + xm - rm\n",
    "        yvm = yvm / len(yvm) * 2 * rm + ym - rm\n",
    "        pointsm = np.concatenate((xvm.flatten()[:, None], yvm.flatten()[:, None]), axis=1)\n",
    "        points = np.concatenate((pointsp, pointsm))\n",
    "    \n",
    "    dx = points[1, 0] - points[0, 0]\n",
    "    dd =  dx * dx * 2 / np.sqrt(3)\n",
    "    dp2 = (points[:, 0] - xp)**2 + (points[:, 1] - yp)**2\n",
    "    dm2 = (points[:, 0] - xm)**2 + (points[:, 1] - ym)**2\n",
    "    ds2 = points[:, 0]**2 + points[:, 1]**2\n",
    "    \n",
    "    occulted = ((dp2 < rp2) | (dm2 < rm2)) & (ds2 < 1)\n",
    "    return - np.sum(ld(points[occulted])) * dd / norm"
   ]
  },
  {
   "cell_type": "code",
   "execution_count": 3,
   "metadata": {},
   "outputs": [],
   "source": [
    "bp = 0.4\n",
    "bpm = 0.05\n",
    "theta = np.pi / 4\n",
    "\n",
    "xp, yp = -bp, 0.0\n",
    "xm, ym = -bp + bpm * np.cos(theta), bpm * np.sin(theta)"
   ]
  },
  {
   "cell_type": "code",
   "execution_count": 9,
   "metadata": {},
   "outputs": [],
   "source": [
    "import sys\n",
    "sys.path.append('../gefera')\n",
    "import testing\n",
    "\n",
    "u1 = 0.5\n",
    "u2 = 0.3\n",
    "rp = 0.2\n",
    "rm = 0.17\n",
    "\n",
    "#testing.flux_numerical(u1, u2, rp, rm, xp, yp, xm, ym, 100000)"
   ]
  },
  {
   "cell_type": "code",
   "execution_count": 10,
   "metadata": {},
   "outputs": [
    {
     "data": {
      "text/plain": [
       "-0.050227017987842015"
      ]
     },
     "execution_count": 10,
     "metadata": {},
     "output_type": "execute_result"
    }
   ],
   "source": [
    "from phot import flux\n",
    "flux(u1, u2, rp, rm, np.array([bp]), np.array([bpm]), np.array([np.cos(theta)]), np.array([np.sin(theta)]))[0][0]"
   ]
  },
  {
   "cell_type": "code",
   "execution_count": 13,
   "metadata": {},
   "outputs": [
    {
     "name": "stdout",
     "output_type": "stream",
     "text": [
      "0.3 0.2 1.5 0.4 0.3\n"
     ]
    },
    {
     "ename": "NameError",
     "evalue": "name 'plt' is not defined",
     "output_type": "error",
     "traceback": [
      "\u001b[0;31m---------------------------------------------------------------------------\u001b[0m",
      "\u001b[0;31mNameError\u001b[0m                                 Traceback (most recent call last)",
      "\u001b[0;32m<ipython-input-13-2057ef0188cc>\u001b[0m in \u001b[0;36m<module>\u001b[0;34m\u001b[0m\n\u001b[1;32m     12\u001b[0m \u001b[0;34m\u001b[0m\u001b[0m\n\u001b[1;32m     13\u001b[0m \u001b[0mt\u001b[0m \u001b[0;34m=\u001b[0m \u001b[0mnp\u001b[0m\u001b[0;34m.\u001b[0m\u001b[0mlinspace\u001b[0m\u001b[0;34m(\u001b[0m\u001b[0;36m0\u001b[0m\u001b[0;34m,\u001b[0m \u001b[0;36m2\u001b[0m \u001b[0;34m*\u001b[0m \u001b[0mnp\u001b[0m\u001b[0;34m.\u001b[0m\u001b[0mpi\u001b[0m\u001b[0;34m,\u001b[0m \u001b[0;36m1000\u001b[0m\u001b[0;34m)\u001b[0m\u001b[0;34m\u001b[0m\u001b[0;34m\u001b[0m\u001b[0m\n\u001b[0;32m---> 14\u001b[0;31m \u001b[0mplt\u001b[0m\u001b[0;34m.\u001b[0m\u001b[0mfigure\u001b[0m\u001b[0;34m(\u001b[0m\u001b[0mfigsize\u001b[0m\u001b[0;34m=\u001b[0m\u001b[0;34m(\u001b[0m\u001b[0;36m5\u001b[0m\u001b[0;34m,\u001b[0m \u001b[0;36m5\u001b[0m\u001b[0;34m)\u001b[0m\u001b[0;34m)\u001b[0m\u001b[0;34m\u001b[0m\u001b[0;34m\u001b[0m\u001b[0m\n\u001b[0m\u001b[1;32m     15\u001b[0m \u001b[0mplt\u001b[0m\u001b[0;34m.\u001b[0m\u001b[0mxlim\u001b[0m\u001b[0;34m(\u001b[0m\u001b[0;34m-\u001b[0m\u001b[0;36m1.5\u001b[0m\u001b[0;34m,\u001b[0m \u001b[0;36m1.5\u001b[0m\u001b[0;34m)\u001b[0m\u001b[0;34m\u001b[0m\u001b[0;34m\u001b[0m\u001b[0m\n\u001b[1;32m     16\u001b[0m \u001b[0mplt\u001b[0m\u001b[0;34m.\u001b[0m\u001b[0mylim\u001b[0m\u001b[0;34m(\u001b[0m\u001b[0;34m-\u001b[0m\u001b[0;36m1.5\u001b[0m\u001b[0;34m,\u001b[0m \u001b[0;36m1.5\u001b[0m\u001b[0;34m)\u001b[0m\u001b[0;34m\u001b[0m\u001b[0;34m\u001b[0m\u001b[0m\n",
      "\u001b[0;31mNameError\u001b[0m: name 'plt' is not defined"
     ]
    }
   ],
   "source": [
    "bp = 1.5\n",
    "bpm = 0.4\n",
    "theta = 0.3\n",
    "\n",
    "xp, yp = -bp, 0.0\n",
    "xm, ym = -bp + bpm * np.cos(theta), bpm * np.sin(theta)\n",
    "\n",
    "rp = 0.3\n",
    "rm = 0.2\n",
    "\n",
    "print(rp, rm, bp, bpm, theta)\n",
    "\n",
    "t = np.linspace(0, 2 * np.pi, 1000)\n",
    "plt.figure(figsize=(5, 5))\n",
    "plt.xlim(-1.5, 1.5)\n",
    "plt.ylim(-1.5, 1.5)\n",
    "plt.plot(np.cos(t), np.sin(t))\n",
    "plt.plot(xp + rp * np.cos(t), yp + rp * np.sin(t))\n",
    "plt.plot(xm + rm * np.cos(t), ym + rm * np.sin(t))"
   ]
  },
  {
   "cell_type": "code",
   "execution_count": 14,
   "metadata": {},
   "outputs": [
    {
     "data": {
      "text/plain": [
       "(1.5, 0.4, 0.2999999999999996)"
      ]
     },
     "execution_count": 14,
     "metadata": {},
     "output_type": "execute_result"
    }
   ],
   "source": [
    "testing.change_coords(xp, yp, xm, ym)"
   ]
  },
  {
   "cell_type": "code",
   "execution_count": 22,
   "metadata": {},
   "outputs": [],
   "source": [
    "coords = [\n",
    "        [0.95, 1, 1.15, 0.75],\n",
    "        [0.95, 1, 0.7, 0.75],\n",
    "        [0.8, 0.8, 1.15, 0.75],\n",
    "        [0.4, 0.4, 0.4, 0.4],\n",
    "        [0.4, 0.4, 0.6, 0.2],\n",
    "        [0.4, 0.4, 0.65, 0.65],\n",
    "        [0.55, 0.55, 0.52, 0.52],\n",
    "        [0.6, 0.6, 0.4, 0.4],\n",
    "        [0.65, 0.65, 0.65, 0.65],\n",
    "        [0.6, 0.6, 0.75, 0.75],\n",
    "        [0.8, 0.8, 0.65, 0.65],\n",
    "        [0.52, 0.52, 0.7, 0.7],\n",
    "        [0.88, 0.88, 0.7, 0.7],\n",
    "        [0.85, 0.9, 1.05, 0.5],\n",
    "        [0.5, 0.55, 0.8, 0.3],\n",
    "        [0.6, 0.65, 0.9, 0.4]\n",
    "    ]"
   ]
  },
  {
   "cell_type": "code",
   "execution_count": 25,
   "metadata": {},
   "outputs": [
    {
     "name": "stdout",
     "output_type": "stream",
     "text": [
      "0.95 1\n",
      "0.95 1\n",
      "0.8 0.8\n",
      "0.4 0.4\n",
      "0.4 0.4\n",
      "0.4 0.4\n",
      "0.55 0.55\n",
      "0.6 0.6\n",
      "0.65 0.65\n",
      "0.6 0.6\n",
      "0.8 0.8\n",
      "0.52 0.52\n",
      "0.88 0.88\n",
      "0.85 0.9\n",
      "0.5 0.55\n",
      "0.6 0.65\n"
     ]
    }
   ],
   "source": [
    "for xp, yp, xm, ym in coords:\n",
    "    print(xp, yp)"
   ]
  },
  {
   "cell_type": "code",
   "execution_count": null,
   "metadata": {},
   "outputs": [],
   "source": []
  }
 ],
 "metadata": {
  "kernelspec": {
   "display_name": "Python 3",
   "language": "python",
   "name": "python3"
  },
  "language_info": {
   "codemirror_mode": {
    "name": "ipython",
    "version": 3
   },
   "file_extension": ".py",
   "mimetype": "text/x-python",
   "name": "python",
   "nbconvert_exporter": "python",
   "pygments_lexer": "ipython3",
   "version": "3.8.6"
  }
 },
 "nbformat": 4,
 "nbformat_minor": 4
}
