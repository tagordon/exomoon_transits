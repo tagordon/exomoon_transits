{
 "cells": [
  {
   "cell_type": "code",
   "execution_count": 1,
   "metadata": {},
   "outputs": [],
   "source": [
    "import ctypes\n",
    "from ctypes import byref\n",
    "clib = ctypes.CDLL(\"../fortran/wrapper.so\")\n",
    "clib.kepler_solve.restype = None\n",
    "clib.kepler_solve_RPP.restype = None"
   ]
  },
  {
   "cell_type": "code",
   "execution_count": 2,
   "metadata": {},
   "outputs": [],
   "source": [
    "n = 100\n",
    "np.random.seed(42)\n",
    "M = np.random.rand(n) * np.pi * 2\n",
    "ecc = np.random.rand(n)\n",
    "ecc[-1] = 0.999999999\n",
    "ecc[-2] = 0.000000001"
   ]
  },
  {
   "cell_type": "code",
   "execution_count": 3,
   "metadata": {},
   "outputs": [],
   "source": [
    "def test_RPP_vs_newton(M, ecc):\n",
    "    \n",
    "    j = len(M)\n",
    "    M = byref((ctypes.c_double * j).from_buffer(M))\n",
    "    \n",
    "    for e in ecc:\n",
    "        e = byref(ctypes.c_double(e))\n",
    "        cosf_newton = (ctypes.c_double * j).from_buffer(np.zeros(j))\n",
    "        sinf_newton = (ctypes.c_double * j).from_buffer(np.zeros(j))\n",
    "        cosf_RPP = (ctypes.c_double * j).from_buffer(np.zeros(j))\n",
    "        sinf_RPP = (ctypes.c_double * j).from_buffer(np.zeros(j))\n",
    "        newton = clib.kepler_solve(M, e, cosf_newton, sinf_newton, byref(ctypes.c_int(j)))\n",
    "        RPP = clib.kepler_solve_RPP(M, e, cosf_RPP, sinf_RPP, byref(ctypes.c_int(j)))\n",
    "        assert np.all(np.isclose(np.array(sinf_RPP), np.array(sinf_newton), atol=1e-12))\n",
    "        assert np.all(np.isclose(np.array(cosf_RPP), np.array(cosf_newton), atol=1e-12))"
   ]
  },
  {
   "cell_type": "code",
   "execution_count": 4,
   "metadata": {},
   "outputs": [],
   "source": [
    "test_RPP_vs_newton(M, ecc)"
   ]
  },
  {
   "cell_type": "code",
   "execution_count": 5,
   "metadata": {},
   "outputs": [],
   "source": [
    "j = len(M)\n",
    "M = byref((ctypes.c_double * j).from_buffer(M))\n",
    "e = byref(ctypes.c_double(ecc[0]))\n",
    "cosf = (ctypes.c_double * j).from_buffer(np.zeros(j))\n",
    "sinf = (ctypes.c_double * j).from_buffer(np.zeros(j))\n",
    "clib.kepler_solve_RPP(M, e, cosf, sinf, byref(ctypes.c_int(j)))"
   ]
  },
  {
   "cell_type": "code",
   "execution_count": 6,
   "metadata": {},
   "outputs": [],
   "source": [
    "import sys\n",
    "sys.path.append('../gefera')\n",
    "from kep import impacts, grad_impacts\n",
    "import matplotlib.pyplot as plt\n",
    "\n",
    "t = np.linspace(0, 100, 1000)"
   ]
  },
  {
   "cell_type": "code",
   "execution_count": 47,
   "metadata": {},
   "outputs": [],
   "source": [
    "uniform_draw = lambda l, h: np.random.rand() * (h - l) + l\n",
    "\n",
    "def random_args():\n",
    "    \n",
    "    keys = [\n",
    "        'ab', \n",
    "        'tb', \n",
    "        'eb', \n",
    "        'pb', \n",
    "        'wb', \n",
    "        'ib',      \n",
    "        'am', \n",
    "        'tm', \n",
    "        'em', \n",
    "        'pm', \n",
    "        'om', \n",
    "        'wm', \n",
    "        'im', \n",
    "        'mm'\n",
    "    ]\n",
    "    \n",
    "    ab = uniform_draw(1, 10)\n",
    "    tb = uniform_draw(-10, 10)\n",
    "    eb = uniform_draw(0, 0.999)\n",
    "    pb = uniform_draw(10, 100)\n",
    "    wb = uniform_draw(0, np.pi*2)\n",
    "    ib = uniform_draw(0, np.pi/2)\n",
    "    \n",
    "    am = uniform_draw(0.01, 1)\n",
    "    tm = uniform_draw(-10, 10)\n",
    "    em = uniform_draw(0, 0.999)\n",
    "    pm = uniform_draw(1, 10)\n",
    "    om = uniform_draw(0, np.pi*2)\n",
    "    wm = uniform_draw(0, np.pi*2)\n",
    "    im = uniform_draw(0, np.pi/2)\n",
    "    mm = uniform_draw(0, 1)\n",
    "    \n",
    "    argdict = {\n",
    "        k: v for k, v in zip(\n",
    "            keys, \n",
    "            (ab, tb, eb, pb, wb, ib, am, tm, em, pm, om, wm, im, mm)\n",
    "        )\n",
    "    }\n",
    "    \n",
    "    return argdict"
   ]
  },
  {
   "cell_type": "code",
   "execution_count": 48,
   "metadata": {},
   "outputs": [],
   "source": [
    "from copy import copy\n",
    "def test_gradient(p):\n",
    "    d = 0.000001\n",
    "    t = np.linspace(0, 100, 100)\n",
    "    argdict = random_args()\n",
    "    ind = np.where(np.array(list(argdict.keys())) == p)[0][0]\n",
    "    pargdict = copy(argdict)\n",
    "    margdict = copy(argdict)\n",
    "    pargdict[p] = argdict[p] + d\n",
    "    margdict[p] = argdict[p] - d\n",
    "    pbp, pbpm, ptheta = impacts(t, pargdict)\n",
    "    mbp, mbpm, mtheta = impacts(t, margdict)\n",
    "    _, _, _, dbp, dbpm, dtheta = grad_impacts(t, argdict)\n",
    "    fdiff_bp = (pbp - mbp) / (2 * d)\n",
    "    fdiff_bpm = (pbpm - mbpm) / (2 * d)\n",
    "    fdiff_theta = (ptheta - mtheta) / (2 * d)\n",
    "    \n",
    "    tol = 1e-3\n",
    "    \n",
    "    if p == 'pb':\n",
    "        tol = 0.1\n",
    "    if p == 'pm':\n",
    "        tol = 0.5\n",
    "    \n",
    "    try:\n",
    "        assert np.all(np.isclose(fdiff_bp, dbp[ind], atol=tol))\n",
    "    except:\n",
    "        fig, axs = plt.subplots(1, 2)\n",
    "        print(\"eb = \", argdict['eb'])\n",
    "        print(\"em = \", argdict['em'])\n",
    "        print(np.max(np.abs(fdiff_bp - dbp[ind])))\n",
    "        print(p, argdict[p])\n",
    "        axs[0].plot(t, fdiff_bp)\n",
    "        axs[0].plot(t, dbp[ind])\n",
    "        axs[1].plot(t, fdiff_bp - dbp[ind], '.')\n",
    "    try:\n",
    "        assert np.all(np.isclose(fdiff_bpm, dbpm[ind], atol=tol))\n",
    "    except:\n",
    "        fig, axs = plt.subplots(1, 2)\n",
    "        print(\"eb = \", argdict['eb'])\n",
    "        print(\"em = \", argdict['em'])\n",
    "        print(np.max(np.abs(fdiff_bpm - dbpm[ind])))\n",
    "        print(p, argdict[p])\n",
    "        axs[0].plot(t, fdiff_bpm)\n",
    "        axs[0].plot(t, dbpm[ind])\n",
    "        axs[1].plot(t, fdiff_bpm - dbpm[ind], '.')\n",
    "    try:\n",
    "        assert np.all(np.isclose(fdiff_theta, dtheta[ind], atol=tol))\n",
    "    except:\n",
    "        fig, axs = plt.subplots(1, 2)\n",
    "        print(\"eb = \", argdict['eb'])\n",
    "        print(\"em = \", argdict['em'])\n",
    "        print(np.max(np.abs(fdiff_theta - dtheta[ind])))\n",
    "        print(p, argdict[p])\n",
    "        axs[0].plot(t, fdiff_theta)\n",
    "        axs[0].plot(t, dtheta[ind])\n",
    "        axs[1].plot(t, fdiff_theta - dtheta[ind], '.')"
   ]
  },
  {
   "cell_type": "code",
   "execution_count": 49,
   "metadata": {},
   "outputs": [],
   "source": [
    "#diff, fdiff = test_gradient('mm')\n",
    "#plt.plot(t, fdiff - diff)\n",
    "#plt.plot(t, diff)"
   ]
  },
  {
   "cell_type": "code",
   "execution_count": 75,
   "metadata": {},
   "outputs": [
    {
     "name": "stdout",
     "output_type": "stream",
     "text": [
      "eb =  0.6933027992491114\n",
      "em =  0.9468188466460734\n",
      "1.3213355655316263\n",
      "pm 1.3739533177311556\n"
     ]
    },
    {
     "data": {
      "image/png": "[encoded data removed]",
      "text/plain": [
       "<Figure size 432x288 with 2 Axes>"
      ]
     },
     "metadata": {
      "needs_background": "light"
     },
     "output_type": "display_data"
    }
   ],
   "source": [
    "[test_gradient('ab') for _ in range(10)];\n",
    "[test_gradient('tb') for _ in range(10)];\n",
    "[test_gradient('eb') for _ in range(10)];\n",
    "[test_gradient('pb') for _ in range(10)];\n",
    "[test_gradient('wb') for _ in range(10)];\n",
    "[test_gradient('ib') for _ in range(10)];\n",
    "[test_gradient('am') for _ in range(10)];\n",
    "[test_gradient('tm') for _ in range(10)];\n",
    "[test_gradient('em') for _ in range(10)];\n",
    "[test_gradient('pm') for _ in range(10)];\n",
    "[test_gradient('om') for _ in range(10)];\n",
    "[test_gradient('wm') for _ in range(10)];\n",
    "[test_gradient('im') for _ in range(10)];\n",
    "[test_gradient('mm') for _ in range(10)];"
   ]
  },
  {
   "cell_type": "code",
   "execution_count": null,
   "metadata": {},
   "outputs": [],
   "source": [
    "import matplotlib.pyplot as plt\n",
    "t = np.linspace(0, 100, 1000)\n",
    "argdict = random_args()\n",
    "bp, bpm, theta = impacts(t, argdict)\n",
    "_, _, _, dbp, dbpm, dtheta = grad_impacts(t, argdict)\n",
    "plt.plot(t, bp)"
   ]
  },
  {
   "cell_type": "code",
   "execution_count": null,
   "metadata": {},
   "outputs": [],
   "source": [
    "np.where(list(argdict.keys()) == 'am')"
   ]
  },
  {
   "cell_type": "code",
   "execution_count": null,
   "metadata": {},
   "outputs": [],
   "source": [
    "np.where(np.array(list(argdict.keys())) == 'pb')[0][0]"
   ]
  },
  {
   "cell_type": "code",
   "execution_count": 157,
   "metadata": {},
   "outputs": [],
   "source": [
    "argdict = random_args()\n",
    "argdict['am'] = 0.0\n",
    "am = argdict['ab']\n",
    "argdict['eb'] = 0.0\n",
    "argdict['em'] = 0.0"
   ]
  },
  {
   "cell_type": "code",
   "execution_count": 158,
   "metadata": {},
   "outputs": [],
   "source": [
    "from kep import coords\n",
    "t = np.linspace(0, 100, 10)\n",
    "xp, yp, zp, xm, ym, zm = coords(t, argdict)"
   ]
  },
  {
   "cell_type": "code",
   "execution_count": 159,
   "metadata": {},
   "outputs": [
    {
     "data": {
      "text/plain": [
       "False"
      ]
     },
     "execution_count": 159,
     "metadata": {},
     "output_type": "execute_result"
    }
   ],
   "source": [
    "np.all(np.isclose((xm - xp)**2 + (ym - yp)**2 + (zm - zp)**2, am ** 2, atol=1e-10))"
   ]
  },
  {
   "cell_type": "code",
   "execution_count": 160,
   "metadata": {},
   "outputs": [
    {
     "data": {
      "text/plain": [
       "1.37306653066042"
      ]
     },
     "execution_count": 160,
     "metadata": {},
     "output_type": "execute_result"
    }
   ],
   "source": [
    "am**2"
   ]
  },
  {
   "cell_type": "code",
   "execution_count": 162,
   "metadata": {},
   "outputs": [
    {
     "data": {
      "text/plain": [
       "array([1.37306653, 1.37306653, 1.37306653, 1.37306653, 1.37306653,\n",
       "       1.37306653, 1.37306653, 1.37306653, 1.37306653, 1.37306653])"
      ]
     },
     "execution_count": 162,
     "metadata": {},
     "output_type": "execute_result"
    }
   ],
   "source": [
    "(xm)**2 + (ym)**2 + (zm)**2"
   ]
  },
  {
   "cell_type": "code",
   "execution_count": 163,
   "metadata": {},
   "outputs": [
    {
     "data": {
      "text/plain": [
       "array([1.37306653, 1.37306653, 1.37306653, 1.37306653, 1.37306653,\n",
       "       1.37306653, 1.37306653, 1.37306653, 1.37306653, 1.37306653])"
      ]
     },
     "execution_count": 163,
     "metadata": {},
     "output_type": "execute_result"
    }
   ],
   "source": [
    "(xp)**2 + (yp)**2 + (zp)**2"
   ]
  },
  {
   "cell_type": "code",
   "execution_count": null,
   "metadata": {},
   "outputs": [],
   "source": []
  }
 ],
 "metadata": {
  "kernelspec": {
   "display_name": "Python 3",
   "language": "python",
   "name": "python3"
  },
  "language_info": {
   "codemirror_mode": {
    "name": "ipython",
    "version": 3
   },
   "file_extension": ".py",
   "mimetype": "text/x-python",
   "name": "python",
   "nbconvert_exporter": "python",
   "pygments_lexer": "ipython3",
   "version": "3.8.6"
  }
 },
 "nbformat": 4,
 "nbformat_minor": 4
}
