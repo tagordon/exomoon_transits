{
 "cells": [
  {
   "cell_type": "code",
   "execution_count": 5,
   "metadata": {},
   "outputs": [],
   "source": [
    "import numpy as np\n",
    "import matplotlib.pyplot as plt\n",
    "import sys\n",
    "sys.path.append('../aesara')\n",
    "from ops import ImpactsOp, FluxOp"
   ]
  },
  {
   "cell_type": "code",
   "execution_count": 6,
   "metadata": {},
   "outputs": [],
   "source": [
    "t = np.linspace(67.8, 68.8, 100)\n",
    "\n",
    "ap = 1.0\n",
    "tp = 0.2\n",
    "ep = 0.2\n",
    "pp = 365\n",
    "wp = 0.1 * np.pi / 180\n",
    "ip = 90.0 * np.pi / 180\n",
    "\n",
    "am = 0.007\n",
    "tm = -1.2\n",
    "em = 0.1\n",
    "pm = 3\n",
    "om = 0.1 * np.pi / 180\n",
    "wm = 90 * np.pi / 180\n",
    "im = 88.0 * np.pi / 180\n",
    "mm = 0.01\n",
    "\n",
    "u1 = 0.5\n",
    "u2 = 0.3\n",
    "rp = 0.1\n",
    "rm = 0.07"
   ]
  },
  {
   "cell_type": "code",
   "execution_count": 7,
   "metadata": {},
   "outputs": [],
   "source": [
    "impacts = ImpactsOp(t)\n",
    "flux = FluxOp()\n",
    "outs = impacts(ap, tp, ep, pp, wp, ip, am, tm, em, pm, om, wm, im, mm)\n",
    "bp, bpm, theta = outs[0], outs[1], outs[2]\n",
    "f = flux(u1, u2, rp, rm, bp, bpm, theta)"
   ]
  },
  {
   "cell_type": "code",
   "execution_count": 9,
   "metadata": {},
   "outputs": [
    {
     "data": {
      "text/plain": [
       "[<matplotlib.lines.Line2D at 0x1230ebdf0>]"
      ]
     },
     "execution_count": 9,
     "metadata": {},
     "output_type": "execute_result"
    },
    {
     "data": {
      "image/png": "[encoded data removed]",
      "text/plain": [
       "<Figure size 432x288 with 1 Axes>"
      ]
     },
     "metadata": {
      "needs_background": "light"
     },
     "output_type": "display_data"
    }
   ],
   "source": [
    "y = f[0].eval() + np.random.randn(100) * 0.001\n",
    "plt.plot(t, y, '.')"
   ]
  },
  {
   "cell_type": "code",
   "execution_count": null,
   "metadata": {},
   "outputs": [
    {
     "name": "stderr",
     "output_type": "stream",
     "text": [
      "Auto-assigning NUTS sampler...\n",
      "Initializing NUTS using jitter+adapt_diag...\n"
     ]
    }
   ],
   "source": [
    "import pymc as pmc\n",
    "from aesara import tensor as tt\n",
    "\n",
    "with pmc.Model() as model:\n",
    "        \n",
    "    ap = pmc.Uniform(\"ap\", lower=0.0, upper=2.0, initval=1)\n",
    "    tp = pmc.Normal(\"tp\", mu=0.2, sigma=10.0)\n",
    "    pp = pmc.Normal(\"pp\", mu=365, sigma=100)\n",
    "    wp = pmc.TruncatedNormal(\"wp\", mu=0.0, sigma=1, lower=0.0)\n",
    "    ip = pmc.Uniform(\"ip\", lower=0.0, upper=np.pi/2, initval=np.pi/2-0.01)\n",
    "    \n",
    "    am = pmc.Uniform(\"am\", lower=0.0, upper=0.1, initval=0.007)\n",
    "    tm = pmc.Normal(\"tm\", mu=-1.2, sigma=1.0)\n",
    "    pm = pmc.TruncatedNormal(\"pm\", mu=3, sigma=10, lower=0.0)\n",
    "    om = pmc.TruncatedNormal(\"om\", mu=0.01, sigma=1, lower=0.0)\n",
    "    wm = pmc.TruncatedNormal(\"wm\", mu=np.pi/2, sigma=1, lower=0.0)\n",
    "    im = pmc.Uniform(\"im\", lower=0.0, upper=np.pi/2, initval=np.pi/2 - 0.01)\n",
    "    mm = pmc.Uniform(\"mm\", lower=0.0, upper=1.0, initval=0.01)\n",
    "    \n",
    "    ep = pmc.Uniform(\"ep\", lower=0.0, upper=1.0, initval=0.2)\n",
    "    em = pmc.Uniform(\"em\", lower=0.0, upper=1.0, initval=0.1)\n",
    "    \n",
    "    q1 = pmc.Uniform(\"q1\", lower=0.0, upper=1.0, initval=0.5)\n",
    "    q2 = pmc.Uniform(\"q2\", lower=0.0, upper=1.0, initval=0.5)\n",
    "    u1 = 2 * tt.sqrt(q1) * q2\n",
    "    u2 = tt.sqrt(q1) * (1 - 2 * q2)\n",
    "    \n",
    "    rp = pmc.Uniform(\"rp\", lower=0.08, upper=1.0, initval=0.1)\n",
    "    rm = pmc.Uniform(\"rm\", lower=0.0, upper=0.08, initval=0.07)\n",
    "    \n",
    "    lsigma = pmc.Normal(\"lsigma\", mu=-3, sigma=2)\n",
    "    \n",
    "    impacts = ImpactsOp(t)\n",
    "    outs = impacts(ap, tp, ep, pp, wp, ip, am, tm, em, pm, om, wm, im, mm)\n",
    "    bp, bpm, theta = outs[0], outs[1], outs[2]\n",
    "    f = flux(u1, u2, rp, rm, bp, bpm, theta)\n",
    "    obs = pmc.Normal(\"obs\", mu=f[0], sigma=tt.exp(lsigma), observed=y)\n",
    "    trace = pmc.sample(3000, tune=2000)"
   ]
  },
  {
   "cell_type": "code",
   "execution_count": null,
   "metadata": {},
   "outputs": [],
   "source": [
    "df = trace.to_dataframe()"
   ]
  },
  {
   "cell_type": "code",
   "execution_count": null,
   "metadata": {},
   "outputs": [],
   "source": [
    "df"
   ]
  },
  {
   "cell_type": "code",
   "execution_count": null,
   "metadata": {},
   "outputs": [],
   "source": [
    "plt.hist(df[('posterior', 'ep')], bins=50);"
   ]
  },
  {
   "cell_type": "code",
   "execution_count": null,
   "metadata": {},
   "outputs": [],
   "source": [
    "import arviz as az\n",
    "#az.rcParams['plot.max_subplots'] = 50\n",
    "\n",
    "\n",
    "az.plot_pair(trace, divergences=True);"
   ]
  },
  {
   "cell_type": "code",
   "execution_count": null,
   "metadata": {},
   "outputs": [],
   "source": [
    "az.plot_trace(trace);"
   ]
  },
  {
   "cell_type": "code",
   "execution_count": null,
   "metadata": {},
   "outputs": [],
   "source": [
    "arr = [1, 2, 3, 4, 5, 6, 7, 8]\n",
    "arr[1:5]"
   ]
  },
  {
   "cell_type": "code",
   "execution_count": null,
   "metadata": {},
   "outputs": [],
   "source": [
    "arr[5:]"
   ]
  },
  {
   "cell_type": "code",
   "execution_count": null,
   "metadata": {},
   "outputs": [],
   "source": []
  }
 ],
 "metadata": {
  "kernelspec": {
   "display_name": "Python 3",
   "language": "python",
   "name": "python3"
  },
  "language_info": {
   "codemirror_mode": {
    "name": "ipython",
    "version": 3
   },
   "file_extension": ".py",
   "mimetype": "text/x-python",
   "name": "python",
   "nbconvert_exporter": "python",
   "pygments_lexer": "ipython3",
   "version": "3.8.6"
  }
 },
 "nbformat": 4,
 "nbformat_minor": 4
}
