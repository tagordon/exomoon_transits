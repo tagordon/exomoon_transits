{
 "cells": [
  {
   "cell_type": "code",
   "execution_count": 1,
   "metadata": {},
   "outputs": [],
   "source": [
    "import numpy as np\n",
    "import matplotlib.pyplot as plt\n",
    "import sys\n",
    "sys.path.append('../aesara')\n",
    "from ops import ImpactsOp"
   ]
  },
  {
   "cell_type": "code",
   "execution_count": 2,
   "metadata": {},
   "outputs": [],
   "source": [
    "t = np.linspace(67.8, 68.8, 1000)\n",
    "\n",
    "ap = 1.0\n",
    "tp = 0.2\n",
    "ep = 0.2\n",
    "pp = 365\n",
    "wp = 0.0 * np.pi / 180\n",
    "ip = 90.0 * np.pi / 180\n",
    "\n",
    "am = 0.007\n",
    "tm = -1.2\n",
    "em = 0.1\n",
    "pm = 3\n",
    "om = 0.0 * np.pi / 180\n",
    "wm = 90 * np.pi / 180\n",
    "im = 90.0 * np.pi / 180\n",
    "mm = 0.01"
   ]
  },
  {
   "cell_type": "code",
   "execution_count": 3,
   "metadata": {},
   "outputs": [],
   "source": [
    "impacts = ImpactsOp(t)\n",
    "outs = impacts(ap, tp, ep, pp, wp, ip, am, tm, em, pm, om, wm, im, mm)"
   ]
  },
  {
   "cell_type": "code",
   "execution_count": 4,
   "metadata": {},
   "outputs": [
    {
     "name": "stderr",
     "output_type": "stream",
     "text": [
      "ERROR (aesara.graph.opt): Optimization failure due to: constant_folding\n",
      "ERROR (aesara.graph.opt): node: ImpactsOp(TensorConstant{1.0}, TensorConstant{0.2}, TensorConstant{0.2}, TensorConstant{365}, TensorConstant{0.0}, TensorConstant{1.5707963267948966}, TensorConstant{0.007}, TensorConstant{-1.2}, TensorConstant{0.1}, TensorConstant{3}, TensorConstant{0.0}, TensorConstant{1.5707963267948966}, TensorConstant{1.5707963267948966}, TensorConstant{0.01})\n",
      "ERROR (aesara.graph.opt): TRACEBACK:\n",
      "ERROR (aesara.graph.opt): Traceback (most recent call last):\n",
      "  File \"/usr/local/lib/python3.8/site-packages/aesara/graph/opt.py\", line 1992, in process_node\n",
      "    replacements = lopt.transform(fgraph, node)\n",
      "  File \"/usr/local/lib/python3.8/site-packages/aesara/graph/opt.py\", line 1203, in transform\n",
      "    return self.fn(fgraph, node)\n",
      "  File \"/usr/local/lib/python3.8/site-packages/aesara/tensor/basic_opt.py\", line 2919, in constant_folding\n",
      "    if not node.op.do_constant_folding(fgraph, node):\n",
      "TypeError: do_constant_folding() takes 1 positional argument but 3 were given\n",
      "\n",
      "ERROR (aesara.graph.opt): Optimization failure due to: constant_folding\n",
      "ERROR (aesara.graph.opt): node: ImpactsOp(TensorConstant{1.0}, TensorConstant{0.2}, TensorConstant{0.2}, TensorConstant{365}, TensorConstant{0.0}, TensorConstant{1.5707963267948966}, TensorConstant{0.007}, TensorConstant{-1.2}, TensorConstant{0.1}, TensorConstant{3}, TensorConstant{0.0}, TensorConstant{1.5707963267948966}, TensorConstant{1.5707963267948966}, TensorConstant{0.01})\n",
      "ERROR (aesara.graph.opt): TRACEBACK:\n",
      "ERROR (aesara.graph.opt): Traceback (most recent call last):\n",
      "  File \"/usr/local/lib/python3.8/site-packages/aesara/graph/opt.py\", line 1992, in process_node\n",
      "    replacements = lopt.transform(fgraph, node)\n",
      "  File \"/usr/local/lib/python3.8/site-packages/aesara/graph/opt.py\", line 1203, in transform\n",
      "    return self.fn(fgraph, node)\n",
      "  File \"/usr/local/lib/python3.8/site-packages/aesara/tensor/basic_opt.py\", line 2919, in constant_folding\n",
      "    if not node.op.do_constant_folding(fgraph, node):\n",
      "TypeError: do_constant_folding() takes 1 positional argument but 3 were given\n",
      "\n",
      "ERROR (aesara.graph.opt): Optimization failure due to: constant_folding\n",
      "ERROR (aesara.graph.opt): node: ImpactsOp(TensorConstant{1.0}, TensorConstant{0.2}, TensorConstant{0.2}, TensorConstant{365}, TensorConstant{0.0}, TensorConstant{1.5707963267948966}, TensorConstant{0.007}, TensorConstant{-1.2}, TensorConstant{0.1}, TensorConstant{3}, TensorConstant{0.0}, TensorConstant{1.5707963267948966}, TensorConstant{1.5707963267948966}, TensorConstant{0.01})\n",
      "ERROR (aesara.graph.opt): TRACEBACK:\n",
      "ERROR (aesara.graph.opt): Traceback (most recent call last):\n",
      "  File \"/usr/local/lib/python3.8/site-packages/aesara/graph/opt.py\", line 1992, in process_node\n",
      "    replacements = lopt.transform(fgraph, node)\n",
      "  File \"/usr/local/lib/python3.8/site-packages/aesara/graph/opt.py\", line 1203, in transform\n",
      "    return self.fn(fgraph, node)\n",
      "  File \"/usr/local/lib/python3.8/site-packages/aesara/tensor/basic_opt.py\", line 2919, in constant_folding\n",
      "    if not node.op.do_constant_folding(fgraph, node):\n",
      "TypeError: do_constant_folding() takes 1 positional argument but 3 were given\n",
      "\n",
      "ERROR (aesara.graph.opt): Optimization failure due to: constant_folding\n",
      "ERROR (aesara.graph.opt): node: ImpactsOp(TensorConstant{1.0}, TensorConstant{0.2}, TensorConstant{0.2}, TensorConstant{365}, TensorConstant{0.0}, TensorConstant{1.5707963267948966}, TensorConstant{0.007}, TensorConstant{-1.2}, TensorConstant{0.1}, TensorConstant{3}, TensorConstant{0.0}, TensorConstant{1.5707963267948966}, TensorConstant{1.5707963267948966}, TensorConstant{0.01})\n",
      "ERROR (aesara.graph.opt): TRACEBACK:\n",
      "ERROR (aesara.graph.opt): Traceback (most recent call last):\n",
      "  File \"/usr/local/lib/python3.8/site-packages/aesara/graph/opt.py\", line 1992, in process_node\n",
      "    replacements = lopt.transform(fgraph, node)\n",
      "  File \"/usr/local/lib/python3.8/site-packages/aesara/graph/opt.py\", line 1203, in transform\n",
      "    return self.fn(fgraph, node)\n",
      "  File \"/usr/local/lib/python3.8/site-packages/aesara/tensor/basic_opt.py\", line 2919, in constant_folding\n",
      "    if not node.op.do_constant_folding(fgraph, node):\n",
      "TypeError: do_constant_folding() takes 1 positional argument but 3 were given\n",
      "\n",
      "ERROR (aesara.graph.opt): Optimization failure due to: constant_folding\n",
      "ERROR (aesara.graph.opt): node: ImpactsOp(TensorConstant{1.0}, TensorConstant{0.2}, TensorConstant{0.2}, TensorConstant{365}, TensorConstant{0.0}, TensorConstant{1.5707963267948966}, TensorConstant{0.007}, TensorConstant{-1.2}, TensorConstant{0.1}, TensorConstant{3}, TensorConstant{0.0}, TensorConstant{1.5707963267948966}, TensorConstant{1.5707963267948966}, TensorConstant{0.01})\n",
      "ERROR (aesara.graph.opt): TRACEBACK:\n",
      "ERROR (aesara.graph.opt): Traceback (most recent call last):\n",
      "  File \"/usr/local/lib/python3.8/site-packages/aesara/graph/opt.py\", line 1992, in process_node\n",
      "    replacements = lopt.transform(fgraph, node)\n",
      "  File \"/usr/local/lib/python3.8/site-packages/aesara/graph/opt.py\", line 1203, in transform\n",
      "    return self.fn(fgraph, node)\n",
      "  File \"/usr/local/lib/python3.8/site-packages/aesara/tensor/basic_opt.py\", line 2919, in constant_folding\n",
      "    if not node.op.do_constant_folding(fgraph, node):\n",
      "TypeError: do_constant_folding() takes 1 positional argument but 3 were given\n",
      "\n"
     ]
    },
    {
     "data": {
      "text/plain": [
       "[<matplotlib.lines.Line2D at 0x124d1c670>]"
      ]
     },
     "execution_count": 4,
     "metadata": {},
     "output_type": "execute_result"
    },
    {
     "data": {
      "image/png": "[encoded data removed]",
      "text/plain": [
       "<Figure size 432x288 with 1 Axes>"
      ]
     },
     "metadata": {
      "needs_background": "light"
     },
     "output_type": "display_data"
    }
   ],
   "source": [
    "y = outs[0].eval() + np.random.randn(1000) * 0.1\n",
    "plt.plot(t, y)"
   ]
  },
  {
   "cell_type": "code",
   "execution_count": null,
   "metadata": {},
   "outputs": [
    {
     "name": "stderr",
     "output_type": "stream",
     "text": [
      "Auto-assigning NUTS sampler...\n",
      "Initializing NUTS using adapt_full...\n",
      "/usr/local/lib/python3.8/site-packages/pymc/step_methods/hmc/quadpotential.py:611: UserWarning: QuadPotentialFullAdapt is an experimental feature\n",
      "  warnings.warn(\"QuadPotentialFullAdapt is an experimental feature\")\n",
      "Multiprocess sampling (2 chains in 2 jobs)\n",
      "NUTS: [ap, tp, pp, wp, ip, am, tm, pm, om, wm, im, mm, ep, em, lsigma]\n"
     ]
    },
    {
     "data": {
      "text/html": [
       "\n",
       "    <div>\n",
       "        <style>\n",
       "            /* Turns off some styling */\n",
       "            progress {\n",
       "                /* gets rid of default border in Firefox and Opera. */\n",
       "                border: none;\n",
       "                /* Needs to be in here for Safari polyfill so background images work as expected. */\n",
       "                background-size: auto;\n",
       "            }\n",
       "            .progress-bar-interrupted, .progress-bar-interrupted::-webkit-progress-bar {\n",
       "                background: #F44336;\n",
       "            }\n",
       "        </style>\n",
       "      <progress value='18806' class='' max='30000' style='width:300px; height:20px; vertical-align: middle;'></progress>\n",
       "      62.69% [18806/30000 01:12<00:43 Sampling 2 chains, 0 divergences]\n",
       "    </div>\n",
       "    "
      ],
      "text/plain": [
       "<IPython.core.display.HTML object>"
      ]
     },
     "metadata": {},
     "output_type": "display_data"
    }
   ],
   "source": [
    "import pymc as pmc\n",
    "from aesara import tensor as tt\n",
    "\n",
    "with pmc.Model() as model:\n",
    "        \n",
    "    ap = pmc.Uniform(\"ap\", lower=0.0, upper=2.0, initval=1)\n",
    "    tp = pmc.Normal(\"tp\", mu=0.2, sigma=10.0)\n",
    "    pp = pmc.Normal(\"pp\", mu=365, sigma=100)\n",
    "    wp = pmc.TruncatedNormal(\"wp\", mu=0.0, sigma=1, lower=0.0)\n",
    "    ip = pmc.Uniform(\"ip\", lower=0.0, upper=np.pi/2, initval=np.pi/2-0.01)\n",
    "    \n",
    "    am = pmc.Uniform(\"am\", lower=0.0, upper=0.1, initval=0.007)\n",
    "    tm = pmc.Normal(\"tm\", mu=-1.2, sigma=1.0)\n",
    "    pm = pmc.Normal(\"pm\", mu=3, sigma=10)\n",
    "    om = pmc.TruncatedNormal(\"om\", mu=0.01, sigma=1, lower=0.0)\n",
    "    wm = pmc.TruncatedNormal(\"wm\", mu=np.pi/2, sigma=1, lower=0.0)\n",
    "    im = pmc.Uniform(\"im\", lower=0.0, upper=np.pi/2, initval=np.pi/2 - 0.01)\n",
    "    mm = pmc.Uniform(\"mm\", lower=0.0, upper=1.0, initval=0.01)\n",
    "    \n",
    "    ep = pmc.Uniform(\"ep\", lower=0.0, upper=1.0, initval=0.2)\n",
    "    em = pmc.Uniform(\"em\", lower=0.0, upper=1.0, initval=0.1)\n",
    "    \n",
    "    lsigma = pmc.Normal(\"lsigma\", mu=-1, sigma=2)\n",
    "    \n",
    "    outs = impacts(ap, tp, ep, pp, wp, ip, am, tm, em, pm, om, wm, im, mm)\n",
    "    obs = pmc.Normal(\"obs\", mu=outs[0], sigma=tt.exp(lsigma), observed=y)\n",
    "    trace = pmc.sample(2000, tune=2000, init='adapt_full')"
   ]
  },
  {
   "cell_type": "code",
   "execution_count": null,
   "metadata": {},
   "outputs": [],
   "source": [
    "df = trace.to_dataframe()"
   ]
  },
  {
   "cell_type": "code",
   "execution_count": null,
   "metadata": {},
   "outputs": [],
   "source": [
    "df"
   ]
  },
  {
   "cell_type": "code",
   "execution_count": null,
   "metadata": {},
   "outputs": [],
   "source": [
    "plt.hist(df[('posterior', 'pm')], bins=100);"
   ]
  },
  {
   "cell_type": "code",
   "execution_count": null,
   "metadata": {},
   "outputs": [],
   "source": [
    "import arviz as az\n",
    "\n",
    "az.plot_pair(trace, divergences=True);"
   ]
  },
  {
   "cell_type": "code",
   "execution_count": null,
   "metadata": {},
   "outputs": [],
   "source": []
  }
 ],
 "metadata": {
  "kernelspec": {
   "display_name": "Python 3",
   "language": "python",
   "name": "python3"
  },
  "language_info": {
   "codemirror_mode": {
    "name": "ipython",
    "version": 3
   },
   "file_extension": ".py",
   "mimetype": "text/x-python",
   "name": "python",
   "nbconvert_exporter": "python",
   "pygments_lexer": "ipython3",
   "version": "3.8.6"
  }
 },
 "nbformat": 4,
 "nbformat_minor": 4
}
