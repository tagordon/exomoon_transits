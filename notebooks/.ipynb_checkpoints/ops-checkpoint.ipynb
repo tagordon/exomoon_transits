{
 "cells": [
  {
   "cell_type": "code",
   "execution_count": 1,
   "metadata": {},
   "outputs": [],
   "source": [
    "import numpy as np\n",
    "import matplotlib.pyplot as plt\n",
    "\n",
    "import sys\n",
    "sys.path.append('../aesara')\n",
    "import gefera as gf"
   ]
  },
  {
   "cell_type": "code",
   "execution_count": 8,
   "metadata": {},
   "outputs": [],
   "source": [
    "t = np.linspace(67.8, 68.8, 1000)\n",
    "#t2 = t1 + 365\n",
    "#t = np.hstack((t1, t2))\n",
    "\n",
    "ap = 1.0\n",
    "tp = 0.2\n",
    "ep = 0.2\n",
    "pp = 365\n",
    "wp = 0.1 * np.pi / 180\n",
    "ip = 90.0 * np.pi / 180\n",
    "\n",
    "am = 0.007\n",
    "tm = -1.3\n",
    "em = 0.1\n",
    "pm = 3\n",
    "om = 0.1 * np.pi / 180\n",
    "wm = 90 * np.pi / 180\n",
    "im = 88.0 * np.pi / 180\n",
    "mm = 0.01\n",
    "\n",
    "u1 = 0.5\n",
    "u2 = 0.3\n",
    "rp = 0.2\n",
    "rm = 0.1"
   ]
  },
  {
   "cell_type": "code",
   "execution_count": 9,
   "metadata": {},
   "outputs": [],
   "source": [
    "star = gf.star(u1, u2)\n",
    "planet = gf.planet(rp, ap, tp, ep, pp, wp, ip)\n",
    "moon = gf.moon(rm, am, tm, em, pm, om, wm, im, mm)\n",
    "system = gf.system(star, planet, moon)\n",
    "lc = system.light_curve(t)"
   ]
  },
  {
   "cell_type": "code",
   "execution_count": 11,
   "metadata": {},
   "outputs": [
    {
     "data": {
      "text/plain": [
       "[<matplotlib.lines.Line2D at 0x1182703d0>]"
      ]
     },
     "execution_count": 11,
     "metadata": {},
     "output_type": "execute_result"
    },
    {
     "data": {
      "image/png": "[encoded data removed]",
      "text/plain": [
       "<Figure size 432x288 with 1 Axes>"
      ]
     },
     "metadata": {
      "needs_background": "light"
     },
     "output_type": "display_data"
    }
   ],
   "source": [
    "lctrue = lc.eval()\n",
    "y = lctrue + np.random.randn(len(t)) * 0.01\n",
    "plt.plot(t, y, '.')\n",
    "plt.plot(t, lctrue, 'k-')"
   ]
  },
  {
   "cell_type": "code",
   "execution_count": null,
   "metadata": {},
   "outputs": [
    {
     "name": "stderr",
     "output_type": "stream",
     "text": [
      "Auto-assigning NUTS sampler...\n",
      "Initializing NUTS using adapt_full...\n",
      "/usr/local/lib/python3.8/site-packages/pymc/step_methods/hmc/quadpotential.py:611: UserWarning: QuadPotentialFullAdapt is an experimental feature\n",
      "  warnings.warn(\"QuadPotentialFullAdapt is an experimental feature\")\n"
     ]
    }
   ],
   "source": [
    "import pymc as pmc\n",
    "from aesara import tensor as tt\n",
    "\n",
    "with pmc.Model() as model:\n",
    "        \n",
    "    ap = pmc.Uniform(\"ap\", lower=0.8, upper=1.3, initval=1.0)\n",
    "    tp = pmc.Uniform(\"tp\", lower=0.1, upper=0.3, initval=0.2)\n",
    "    pp = pmc.Uniform(\"pp\", lower=355, upper=375, initval=365)\n",
    "    wp = pmc.Uniform(\"wp\", lower=-0.0001, upper=0.5, initval=0.1 * np.pi / 180)\n",
    "    ip = pmc.Uniform(\"ip\", lower=88*np.pi/180, upper=90.1*np.pi/180, initval=np.pi/2)\n",
    "    \n",
    "    am = pmc.Uniform(\"am\", lower=0.0, upper=0.1, initval=0.007)\n",
    "    tm = pmc.Uniform(\"tm\", lower=-2.0, upper=0.0, initval=-1.2)\n",
    "    pm = pmc.Uniform(\"pm\", lower=2.0, upper=4.0, initval=3.0)\n",
    "    om = pmc.Uniform(\"om\", lower=0.0, upper=0.2, initval=0.1)\n",
    "    wm = pmc.Uniform(\"wm\", lower=0.0, upper=np.pi, initval=np.pi/2)\n",
    "    im = pmc.Uniform(\"im\", lower=0.0, upper=np.pi/2, initval=np.pi * 88 / 180)\n",
    "    mm = pmc.Uniform(\"mm\", lower=0.0, upper=1.0, initval=0.01)\n",
    "    \n",
    "    ep = pmc.Uniform(\"ep\", lower=0.0, upper=1.0, initval=0.2)\n",
    "    em = pmc.Uniform(\"em\", lower=0.0, upper=1.0, initval=0.1)\n",
    "    \n",
    "    q1 = pmc.Uniform(\"q1\", lower=0.0, upper=1.0, initval=0.5)\n",
    "    q2 = pmc.Uniform(\"q2\", lower=0.0, upper=1.0, initval=0.2)\n",
    "    u1 = 2 * tt.sqrt(q1) * q2\n",
    "    u2 = tt.sqrt(q1) * (1 - 2 * q2)\n",
    "    \n",
    "    rp = pmc.Uniform(\"rp\", lower=0.15, upper=0.5, initval=0.2)\n",
    "    rm = pmc.Uniform(\"rm\", lower=0.0, upper=0.15, initval=0.1)\n",
    "    \n",
    "    lsigma = pmc.Uniform(\"lsigma\", lower=np.log(0.001), upper=np.log(0.1), initval=np.log(0.01))\n",
    "    \n",
    "    star = gf.star(u1, u2)\n",
    "    planet = gf.planet(rp, ap, tp, ep, pp, wp, ip)\n",
    "    moon = gf.moon(rm, am, tm, em, pm, om, wm, im, mm)\n",
    "    system = gf.system(star, planet, moon)\n",
    "    obs = pmc.Normal(\"obs\", mu=system.light_curve(t), sigma=tt.exp(lsigma), observed=y)\n",
    "    trace = pmc.sample(5000, tune=2000, cores=2, init='adapt_full')"
   ]
  },
  {
   "cell_type": "code",
   "execution_count": null,
   "metadata": {},
   "outputs": [],
   "source": [
    "import arviz as az\n",
    "az.plot_pair(trace, divergences=True);"
   ]
  },
  {
   "cell_type": "code",
   "execution_count": null,
   "metadata": {},
   "outputs": [],
   "source": [
    "n = 1000\n",
    "df = trace.to_dataframe()\n",
    "inds = np.random.randint(10000, size=n)\n",
    "\n",
    "plt.figure(figsize=(10, 10))\n",
    "for i in inds:\n",
    "    ap = df['posterior', 'ap'][i]\n",
    "    tp = df['posterior', 'tp'][i]\n",
    "    pp = df['posterior', 'pp'][i]\n",
    "    wp = df['posterior', 'wp'][i]\n",
    "    ip = df['posterior', 'ip'][i]\n",
    "    am = df['posterior', 'am'][i]\n",
    "    tm = df['posterior', 'tm'][i]\n",
    "    pm = df['posterior', 'pm'][i]\n",
    "    om = df['posterior', 'om'][i]\n",
    "    wm = df['posterior', 'wm'][i]\n",
    "    im = df['posterior', 'im'][i]\n",
    "    mm = df['posterior', 'mm'][i]\n",
    "    ep = df['posterior', 'ep'][i]\n",
    "    em = df['posterior', 'em'][i]\n",
    "    q1 = df['posterior', 'q1'][i]\n",
    "    q2 = df['posterior', 'q2'][i]\n",
    "    rp = df['posterior', 'rp'][i]\n",
    "    rm = df['posterior', 'rm'][i]\n",
    "    plt.plot(t, model.obs.eval(\n",
    "        {\n",
    "            model.ap:ap, \n",
    "            model.tp:tp, \n",
    "            model.pp:pp, \n",
    "            model.wp:wp, \n",
    "            model.ip:ip,\n",
    "            model.am:am,\n",
    "            model.tm:tm,\n",
    "            model.pm:pm,\n",
    "            model.om:om,\n",
    "            model.wm:wm,\n",
    "            model.im:im,\n",
    "            model.mm:mm,\n",
    "            model.ep:ep,\n",
    "            model.em:em,\n",
    "            model.q1:q1,\n",
    "            model.q2:q2,\n",
    "            model.rp:rp,\n",
    "            model.rm:rm,\n",
    "            model.lsigma:-100\n",
    "        }\n",
    "    ), 'r-', alpha=0.1, linewidth=2)\n",
    "    \n",
    "plt.plot(t, y, 'bo', alpha=0.3)\n",
    "plt.plot(t, lctrue, 'k-', linewidth=2)\n",
    "plt.savefig('/Users/tgordon/Desktop/pymc.pdf')"
   ]
  },
  {
   "cell_type": "code",
   "execution_count": null,
   "metadata": {},
   "outputs": [],
   "source": [
    "inbounds = lambda x, l, u: 0.0 if ((x > l) & (x < u)) else -np.inf\n",
    "\n",
    "def log_prior(args):\n",
    "    \n",
    "    lsigma, rp, rm, u1, u2, ap, tp, ep, pp, wp, ip, am, tm, em, pm, om, wm, im, mm = args\n",
    "    \n",
    "    prior = 0.0 if rm < rp and u1 + u2 < 1 and u1 > 0 and u1 + 2 * u2 > 0 else -np.inf\n",
    "    \n",
    "    return (prior \n",
    "            + inbounds(lsigma, np.log(0.001), np.log(0.1))\n",
    "            + inbounds(rp, 0., 0.5)\n",
    "            + inbounds(rm, 0.0, 0.5)\n",
    "            + inbounds(ap, 0.5, 1.5)\n",
    "            + inbounds(tp, 0.1, 0.3)\n",
    "            + inbounds(ep, 0.0, 1.0)\n",
    "            + inbounds(pp, 300, 400)\n",
    "            + inbounds(wp, -0.0001, 0.5)\n",
    "            + inbounds(ip, 85 * np.pi / 180, 90.1 * np.pi / 180)\n",
    "            + inbounds(am, 0.0, 0.5)\n",
    "            + inbounds(tm, -5.0, 0.0)\n",
    "            + inbounds(em, 0.0, 1.0)\n",
    "            + inbounds(pm, 0.0, 5.0)\n",
    "            + inbounds(om, 0.0, 0.5)\n",
    "            + inbounds(wm, 0.0, np.pi)\n",
    "            + inbounds(im, 0.0, np.pi / 2)\n",
    "            + inbounds(mm, 0.0, 1.0)\n",
    "    )\n",
    "\n",
    "def log_like(args, y):\n",
    "    \n",
    "    lsigma, rp, rm, u1, u2, ap, tp, ep, pp, wp, ip, am, tm, em, pm, om, wm, im, mm = args\n",
    "    moon = system.moon(rm, am, tm, em, pm, om, wm, im, mm)\n",
    "    planet = system.planet(rp, ap, tp, ep, pp, wp, ip)\n",
    "    star = system.star(u1, u2)\n",
    "    sys = system.system(star, planet, moon)\n",
    "    sys.compute(t, grad=False)\n",
    "    return sys.loglike(y, np.exp(lsigma))\n",
    "\n",
    "def log_prob(args, y):\n",
    "    lp = log_prior(args)\n",
    "    ll = log_like(args, y)\n",
    "    if np.isfinite(ll):\n",
    "        return lp + ll\n",
    "    else:\n",
    "        return -np.inf"
   ]
  },
  {
   "cell_type": "code",
   "execution_count": null,
   "metadata": {},
   "outputs": [],
   "source": [
    "import emcee\n",
    "\n",
    "init_params = [np.log(0.01), rp, rm, 0.5, 0.3, ap, tp, ep, pp, wp, ip, am, tm, em, pm, om, wm, im, mm]\n",
    "pos = init_params + 1e-4 * np.random.randn(50, len(init_params))\n",
    "nwalkers, ndim = pos.shape\n",
    "\n",
    "sampler = emcee.EnsembleSampler(\n",
    "    nwalkers, ndim, log_prob, args=(y,)\n",
    ")\n",
    "sampler.run_mcmc(pos, 5000, progress=True);"
   ]
  },
  {
   "cell_type": "code",
   "execution_count": null,
   "metadata": {},
   "outputs": [],
   "source": [
    "import corner\n",
    "\n",
    "flat_samples = sampler.get_chain(discard=2000, thin=15, flat=True)\n",
    "fig = corner.corner(flat_samples, labels=['sigma', 'rp', 'rm', 'u1', 'u2', 'ap', 'tp', 'ep', 'pp', 'wp', 'ip', 'am', 'tm', 'em', 'pm', 'om', 'wm', 'im', 'mm']);"
   ]
  },
  {
   "cell_type": "code",
   "execution_count": null,
   "metadata": {},
   "outputs": [],
   "source": [
    "n = 1000\n",
    "inds = np.random.randint(len(flat_samples), size=n)\n",
    "samps = flat_samples[inds]\n",
    "\n",
    "def getlc(*args):\n",
    "    _, rp, rm, u1, u2, ap, t0p, ep, Pp, wp, ip, am, t0m, em, Pm, Om, wm, im, mm = args\n",
    "    moon = system.moon(rm, am, t0m, em, Pm, Om, wm, im, mm)\n",
    "    planet = system.planet(rp, ap, t0p, ep, Pp, wp, ip)\n",
    "    star = system.star(u1, u2)\n",
    "\n",
    "    sys = system.system(star, planet, moon)\n",
    "    sys.compute(t, grad=False)\n",
    "    return sys.lightcurve()\n",
    "\n",
    "\n",
    "plt.figure(figsize=(10, 10))\n",
    "for i in range(n):\n",
    "    lc = getlc(*samps[i])\n",
    "    plt.plot(t, lc, color='r', linewidth=2, alpha=0.1)\n",
    "    \n",
    "plt.plot(t, y, 'bo', alpha=0.3)\n",
    "plt.plot(t, lctrue, 'k-', linewidth=2)\n",
    "plt.xlim(67.8, 68.8)\n",
    "plt.savefig('/Users/tgordon/Desktop/emcee1.pdf')"
   ]
  },
  {
   "cell_type": "code",
   "execution_count": null,
   "metadata": {},
   "outputs": [],
   "source": [
    "plt.figure(figsize=(10, 7))\n",
    "plt.hist(flat_samples[:, 2], density=True, \n",
    "         histtype='step', linewidth=3, bins=20, color='r', label='emcee (no gradient)');\n",
    "plt.hist(df['posterior', 'rm'], density=True, \n",
    "         histtype='step', linewidth=3, bins=20, color='b', label='pymc (gradient)');\n",
    "plt.axvline(0.1, color='k', linewidth=3, linestyle='--', label='input rm')\n",
    "plt.legend(loc='upper left')\n",
    "plt.savefig('/Users/tgordon/Desktop/rm.pdf')"
   ]
  },
  {
   "cell_type": "code",
   "execution_count": null,
   "metadata": {},
   "outputs": [],
   "source": [
    "plt.figure(figsize=(10, 7))\n",
    "plt.hist(flat_samples[:, 1], density=True, \n",
    "         histtype='step', linewidth=3, bins=20, color='r', label='emcee (no gradient)');\n",
    "plt.hist(df['posterior', 'rp'], density=True, \n",
    "         histtype='step', linewidth=3, bins=20, color='b', label='pymc (gradient)');\n",
    "plt.axvline(0.2, color='k', linewidth=3, linestyle='--', label='input rp')\n",
    "plt.legend(loc='upper left')\n",
    "plt.savefig('/Users/tgordon/Desktop/rp.pdf')"
   ]
  },
  {
   "cell_type": "code",
   "execution_count": null,
   "metadata": {},
   "outputs": [],
   "source": [
    "plt.figure(figsize=(10, 7))\n",
    "plt.hist(flat_samples[:, 14], density=True, \n",
    "         histtype='step', linewidth=3, bins=20, color='r', label='emcee (no gradient)');\n",
    "plt.hist(df['posterior', 'pm'], density=True, \n",
    "         histtype='step', linewidth=3, bins=20, color='b', label='pymc (gradient)');\n",
    "plt.axvline(3.0, color='k', linewidth=3, linestyle='--', label='input pm')\n",
    "plt.legend(loc='upper left')\n",
    "plt.savefig('/Users/tgordon/Desktop/pm.pdf')"
   ]
  }
 ],
 "metadata": {
  "kernelspec": {
   "display_name": "Python 3",
   "language": "python",
   "name": "python3"
  },
  "language_info": {
   "codemirror_mode": {
    "name": "ipython",
    "version": 3
   },
   "file_extension": ".py",
   "mimetype": "text/x-python",
   "name": "python",
   "nbconvert_exporter": "python",
   "pygments_lexer": "ipython3",
   "version": "3.8.6"
  }
 },
 "nbformat": 4,
 "nbformat_minor": 4
}
