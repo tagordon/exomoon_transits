{
 "cells": [
  {
   "cell_type": "code",
   "execution_count": 1,
   "metadata": {},
   "outputs": [],
   "source": [
    "import numpy as np\n",
    "import matplotlib.pyplot as plt\n",
    "import sys\n",
    "sys.path.append('../binary')\n",
    "from kep import impacts, coords, coords_m\n",
    "from phot import flux"
   ]
  },
  {
   "cell_type": "code",
   "execution_count": null,
   "metadata": {},
   "outputs": [],
   "source": [
    "t = np.linspace(67, 69, 100000)\n",
    "\n",
    "G = 8.887692445125634d-10\n",
    "\n",
    "ms = 1.0 * ac.M_sun.value / ac.M_earth.value\n",
    "mp = 1.0\n",
    "mm = 0.25\n",
    "\n",
    "tb = 0\n",
    "eb = 0.2\n",
    "pb = 365\n",
    "wb = 0.0\n",
    "ib = 90 * np.pi / 180\n",
    "ab = (G * (ms + mp + mm) * pb * pb)**(1.0 / 3.0)\n",
    "\n",
    "tm = -1.7\n",
    "em = 0.3\n",
    "pm = 2\n",
    "am = (G * (mp + mm) * pm * pm) ** (1.0 / 3.0)\n",
    "Om = 0.0\n",
    "wm = 90 * np.pi / 180\n",
    "im = 90 * np.pi / 180"
   ]
  },
  {
   "cell_type": "code",
   "execution_count": null,
   "metadata": {},
   "outputs": [],
   "source": [
    "bp, bpm, theta = impacts(t, ab, tb, eb, pb, wb, ib, am, tm, em, pm, Om, wm, im, mm)\n",
    "xp, yp, zp, xm, ym, zm = coords(t, ab, tb, eb, pb, wb, ib, am, tm, em, pm, Om, wm, im, mm)\n",
    "lc = flux(0.5, 0.5, 0.1, 0.05, bp, bpm, np.cos(theta), np.sin(theta))"
   ]
  },
  {
   "cell_type": "code",
   "execution_count": null,
   "metadata": {},
   "outputs": [],
   "source": [
    "plt.plot(xp, yp)\n",
    "plt.plot(xm, ym)"
   ]
  },
  {
   "cell_type": "code",
   "execution_count": null,
   "metadata": {},
   "outputs": [],
   "source": [
    "plt.plot(t, lc[:, 0])"
   ]
  },
  {
   "cell_type": "code",
   "execution_count": null,
   "metadata": {},
   "outputs": [],
   "source": [
    "plt.plot(xp, yp)\n",
    "plt.plot(xm, ym)\n",
    "\n",
    "th = np.linspace(0, 2 * np.pi, 1000)\n",
    "plt.plot(np.cos(th)/(ac.au.value / ac.R_sun.value), np.sin(th)/(ac.au.value / ac.R_sun.value))"
   ]
  },
  {
   "cell_type": "code",
   "execution_count": null,
   "metadata": {},
   "outputs": [],
   "source": [
    "t = np.linspace(0, 365, 100000)\n",
    "xp, yp, zp, xm, ym, zm = coords(t, ab, tb, eb, pb, wb, ib, am, tm, em, pm, Om, wm, im, mm)"
   ]
  },
  {
   "cell_type": "code",
   "execution_count": null,
   "metadata": {},
   "outputs": [],
   "source": [
    "plt.figure(figsize=(5, 5))\n",
    "plt.plot(xp, zp)\n",
    "plt.plot(xm, zm)\n",
    "\n",
    "plt.xlim(-1.5, 1.5)\n",
    "plt.ylim(-1.5, 1.5)"
   ]
  },
  {
   "cell_type": "code",
   "execution_count": null,
   "metadata": {},
   "outputs": [],
   "source": []
  }
 ],
 "metadata": {
  "kernelspec": {
   "display_name": "Python 3",
   "language": "python",
   "name": "python3"
  },
  "language_info": {
   "codemirror_mode": {
    "name": "ipython",
    "version": 3
   },
   "file_extension": ".py",
   "mimetype": "text/x-python",
   "name": "python",
   "nbconvert_exporter": "python",
   "pygments_lexer": "ipython3",
   "version": "3.8.6"
  }
 },
 "nbformat": 4,
 "nbformat_minor": 4
}
