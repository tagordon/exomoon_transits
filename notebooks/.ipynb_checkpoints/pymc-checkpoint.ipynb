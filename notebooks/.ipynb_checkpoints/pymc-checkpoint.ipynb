{
 "cells": [
  {
   "cell_type": "code",
   "execution_count": 1,
   "metadata": {},
   "outputs": [],
   "source": [
    "import numpy as np\n",
    "import matplotlib.pyplot as plt\n",
    "\n",
    "import sys\n",
    "sys.path.append('../gefera')\n",
    "import gefera as gf"
   ]
  },
  {
   "cell_type": "code",
   "execution_count": 2,
   "metadata": {},
   "outputs": [],
   "source": [
    "t1 = np.linspace(67.8, 68.8, 1000)\n",
    "t2 = t1 + 365\n",
    "t = np.hstack((t1, t2))\n",
    "\n",
    "ap = 1.0\n",
    "tp = 0.2\n",
    "ep = 0.2\n",
    "pp = 365\n",
    "wp = 0.1 * np.pi / 180\n",
    "ip = 90.0 * np.pi / 180\n",
    "\n",
    "am = 0.007\n",
    "tm = -1.3\n",
    "em = 0.1\n",
    "pm = 3\n",
    "om = 0.1 * np.pi / 180\n",
    "wm = 90 * np.pi / 180\n",
    "im = 88.0 * np.pi / 180\n",
    "mm = 0.01\n",
    "\n",
    "u1 = 0.5\n",
    "u2 = 0.3\n",
    "rp = 0.2\n",
    "rm = 0.1"
   ]
  },
  {
   "cell_type": "code",
   "execution_count": 3,
   "metadata": {},
   "outputs": [],
   "source": [
    "po = gf.BarycenterOrbit(ap, tp, ep, pp, wp, ip)\n",
    "mo = gf.MoonOrbit(am, tm, em, pm, om, wm, im, mm)\n",
    "sys = gf.System(po, mo)\n",
    "lc = sys.lightcurve(t, u1, u2, rp, rm)\n",
    "y = lc + np.random.randn(len(lc)) * 0.01"
   ]
  },
  {
   "cell_type": "code",
   "execution_count": 4,
   "metadata": {},
   "outputs": [
    {
     "data": {
      "text/plain": [
       "(67.8, 68.8)"
      ]
     },
     "execution_count": 4,
     "metadata": {},
     "output_type": "execute_result"
    },
    {
     "data": {
      "image/png": "[encoded data removed]",
      "text/plain": [
       "<Figure size 432x288 with 1 Axes>"
      ]
     },
     "metadata": {
      "needs_background": "light"
     },
     "output_type": "display_data"
    }
   ],
   "source": [
    "plt.plot(t, y, '.')\n",
    "plt.xlim(67.8, 68.8)"
   ]
  },
  {
   "cell_type": "code",
   "execution_count": 5,
   "metadata": {},
   "outputs": [],
   "source": [
    "import gefera_aesara as agf"
   ]
  },
  {
   "cell_type": "code",
   "execution_count": 10,
   "metadata": {},
   "outputs": [
    {
     "name": "stderr",
     "output_type": "stream",
     "text": [
      "Auto-assigning NUTS sampler...\n",
      "Initializing NUTS using adapt_full...\n",
      "/usr/local/lib/python3.8/site-packages/pymc/step_methods/hmc/quadpotential.py:611: UserWarning: QuadPotentialFullAdapt is an experimental feature\n",
      "  warnings.warn(\"QuadPotentialFullAdapt is an experimental feature\")\n"
     ]
    },
    {
     "ename": "SamplingError",
     "evalue": "Initial evaluation of model at starting point failed!\nStarting values:\n{'ab_interval__': array(-0.40546511), 'tb_interval__': array(4.4408921e-16), 'eb_interval__': array(-1.38629436), 'pb_interval__': array(0.), 'wb_interval__': array(-5.59845362), 'ib_interval__': array(2.99573227), 'am_interval__': array(-2.58668934), 'tm_interval__': array(-0.40546511), 'em_interval__': array(-2.19722458), 'pm_interval__': array(0.), 'om_interval__': array(0.), 'wm_interval__': array(0.), 'im_interval__': array(3.78418963), 'mm_interval__': array(-4.59511985), 'q1_interval__': array(0.), 'q2_interval__': array(-1.38629436), 'rp_interval__': array(-1.79175947), 'rm_interval__': array(0.69314718), 'lsigma_interval__': array(2.22044605e-16)}\n\nInitial evaluation results:\nab       -1.43\ntb       -1.39\neb       -1.83\npb       -1.39\nwb       -5.61\nib       -3.09\nam       -2.73\ntm       -1.43\nem       -2.41\npm       -1.39\nom       -1.39\nwm       -1.39\nim       -3.83\nmm       -4.62\nq1       -1.39\nq2       -1.83\nrp       -2.10\nrm       -1.50\nlsigma   -1.39\nobs        NaN\nName: Point log-probability, dtype: float64",
     "output_type": "error",
     "traceback": [
      "\u001b[0;31m---------------------------------------------------------------------------\u001b[0m",
      "\u001b[0;31mSamplingError\u001b[0m                             Traceback (most recent call last)",
      "\u001b[0;32m<ipython-input-10-c37797e81b03>\u001b[0m in \u001b[0;36m<module>\u001b[0;34m\u001b[0m\n\u001b[1;32m     71\u001b[0m     )\n\u001b[1;32m     72\u001b[0m \u001b[0;34m\u001b[0m\u001b[0m\n\u001b[0;32m---> 73\u001b[0;31m     trace = pmc.sample(\n\u001b[0m\u001b[1;32m     74\u001b[0m         \u001b[0;36m2000\u001b[0m\u001b[0;34m,\u001b[0m\u001b[0;34m\u001b[0m\u001b[0;34m\u001b[0m\u001b[0m\n\u001b[1;32m     75\u001b[0m         \u001b[0mtune\u001b[0m\u001b[0;34m=\u001b[0m\u001b[0;36m2000\u001b[0m\u001b[0;34m,\u001b[0m\u001b[0;34m\u001b[0m\u001b[0;34m\u001b[0m\u001b[0m\n",
      "\u001b[0;32m/usr/local/lib/python3.8/site-packages/pymc/sampling.py\u001b[0m in \u001b[0;36msample\u001b[0;34m(draws, step, init, n_init, initvals, trace, chain_idx, chains, cores, tune, progressbar, model, random_seed, discard_tuned_samples, compute_convergence_checks, callback, jitter_max_retries, return_inferencedata, idata_kwargs, mp_ctx, **kwargs)\u001b[0m\n\u001b[1;32m    529\u001b[0m     \u001b[0;31m# One final check that shapes and logps at the starting points are okay.\u001b[0m\u001b[0;34m\u001b[0m\u001b[0;34m\u001b[0m\u001b[0;34m\u001b[0m\u001b[0m\n\u001b[1;32m    530\u001b[0m     \u001b[0;32mfor\u001b[0m \u001b[0mip\u001b[0m \u001b[0;32min\u001b[0m \u001b[0minitial_points\u001b[0m\u001b[0;34m:\u001b[0m\u001b[0;34m\u001b[0m\u001b[0;34m\u001b[0m\u001b[0m\n\u001b[0;32m--> 531\u001b[0;31m         \u001b[0mmodel\u001b[0m\u001b[0;34m.\u001b[0m\u001b[0mcheck_start_vals\u001b[0m\u001b[0;34m(\u001b[0m\u001b[0mip\u001b[0m\u001b[0;34m)\u001b[0m\u001b[0;34m\u001b[0m\u001b[0;34m\u001b[0m\u001b[0m\n\u001b[0m\u001b[1;32m    532\u001b[0m         \u001b[0m_check_start_shape\u001b[0m\u001b[0;34m(\u001b[0m\u001b[0mmodel\u001b[0m\u001b[0;34m,\u001b[0m \u001b[0mip\u001b[0m\u001b[0;34m)\u001b[0m\u001b[0;34m\u001b[0m\u001b[0;34m\u001b[0m\u001b[0m\n\u001b[1;32m    533\u001b[0m \u001b[0;34m\u001b[0m\u001b[0m\n",
      "\u001b[0;32m/usr/local/lib/python3.8/site-packages/pymc/model.py\u001b[0m in \u001b[0;36mcheck_start_vals\u001b[0;34m(self, start)\u001b[0m\n\u001b[1;32m   1671\u001b[0m \u001b[0;34m\u001b[0m\u001b[0m\n\u001b[1;32m   1672\u001b[0m             \u001b[0;32mif\u001b[0m \u001b[0;32mnot\u001b[0m \u001b[0mnp\u001b[0m\u001b[0;34m.\u001b[0m\u001b[0mall\u001b[0m\u001b[0;34m(\u001b[0m\u001b[0mnp\u001b[0m\u001b[0;34m.\u001b[0m\u001b[0misfinite\u001b[0m\u001b[0;34m(\u001b[0m\u001b[0minitial_eval\u001b[0m\u001b[0;34m)\u001b[0m\u001b[0;34m)\u001b[0m\u001b[0;34m:\u001b[0m\u001b[0;34m\u001b[0m\u001b[0;34m\u001b[0m\u001b[0m\n\u001b[0;32m-> 1673\u001b[0;31m                 raise SamplingError(\n\u001b[0m\u001b[1;32m   1674\u001b[0m                     \u001b[0;34m\"Initial evaluation of model at starting point failed!\\n\"\u001b[0m\u001b[0;34m\u001b[0m\u001b[0;34m\u001b[0m\u001b[0m\n\u001b[1;32m   1675\u001b[0m                     \u001b[0;34mf\"Starting values:\\n{elem}\\n\\n\"\u001b[0m\u001b[0;34m\u001b[0m\u001b[0;34m\u001b[0m\u001b[0m\n",
      "\u001b[0;31mSamplingError\u001b[0m: Initial evaluation of model at starting point failed!\nStarting values:\n{'ab_interval__': array(-0.40546511), 'tb_interval__': array(4.4408921e-16), 'eb_interval__': array(-1.38629436), 'pb_interval__': array(0.), 'wb_interval__': array(-5.59845362), 'ib_interval__': array(2.99573227), 'am_interval__': array(-2.58668934), 'tm_interval__': array(-0.40546511), 'em_interval__': array(-2.19722458), 'pm_interval__': array(0.), 'om_interval__': array(0.), 'wm_interval__': array(0.), 'im_interval__': array(3.78418963), 'mm_interval__': array(-4.59511985), 'q1_interval__': array(0.), 'q2_interval__': array(-1.38629436), 'rp_interval__': array(-1.79175947), 'rm_interval__': array(0.69314718), 'lsigma_interval__': array(2.22044605e-16)}\n\nInitial evaluation results:\nab       -1.43\ntb       -1.39\neb       -1.83\npb       -1.39\nwb       -5.61\nib       -3.09\nam       -2.73\ntm       -1.43\nem       -2.41\npm       -1.39\nom       -1.39\nwm       -1.39\nim       -3.83\nmm       -4.62\nq1       -1.39\nq2       -1.83\nrp       -2.10\nrm       -1.50\nlsigma   -1.39\nobs        NaN\nName: Point log-probability, dtype: float64"
     ]
    }
   ],
   "source": [
    "import pymc as pmc\n",
    "from aesara import tensor as tt\n",
    "\n",
    "with pmc.Model() as model:\n",
    "        \n",
    "    ab = pmc.Uniform(\n",
    "        \"ab\", lower=0.8, upper=1.3, initval=1.0\n",
    "    )\n",
    "    tb = pmc.Uniform(\n",
    "        \"tb\", lower=0.1, upper=0.3, initval=0.2\n",
    "    )\n",
    "    eb = pmc.Uniform(\n",
    "        \"eb\", lower=0.0, upper=1.0, initval=0.2\n",
    "    )\n",
    "    pb = pmc.Uniform(\n",
    "        \"pb\", lower=355, upper=375, initval=365\n",
    "    )\n",
    "    wb = pmc.Uniform(\n",
    "        \"wb\", lower=-0.0001, upper=0.5, initval=0.1 * np.pi / 180\n",
    "    )\n",
    "    ib = pmc.Uniform(\n",
    "        \"ib\", lower=88*np.pi/180, upper=90.1*np.pi/180, initval=np.pi/2\n",
    "    )\n",
    "    \n",
    "    am = pmc.Uniform(\n",
    "        \"am\", lower=0.0, upper=0.1, initval=0.007\n",
    "    )\n",
    "    tm = pmc.Uniform(\n",
    "        \"tm\", lower=-2.0, upper=0.0, initval=-1.2\n",
    "    )\n",
    "    em = pmc.Uniform(\n",
    "        \"em\", lower=0.0, upper=1.0, initval=0.1\n",
    "    )\n",
    "    pm = pmc.Uniform(\n",
    "        \"pm\", lower=2.0, upper=4.0, initval=3.0\n",
    "    )\n",
    "    om = pmc.Uniform(\n",
    "        \"om\", lower=0.0, upper=0.2, initval=0.1\n",
    "    )\n",
    "    wm = pmc.Uniform(\n",
    "        \"wm\", lower=0.0, upper=np.pi, initval=np.pi/2\n",
    "    )\n",
    "    im = pmc.Uniform(\n",
    "        \"im\", lower=0.0, upper=np.pi/2, initval=np.pi * 88 / 180\n",
    "    )\n",
    "    mm = pmc.Uniform(\n",
    "        \"mm\", lower=0.0, upper=1.0, initval=0.01\n",
    "    )\n",
    "    \n",
    "    q1 = pmc.Uniform(\"q1\", lower=0.0, upper=1.0, initval=0.5)\n",
    "    q2 = pmc.Uniform(\"q2\", lower=0.0, upper=1.0, initval=0.2)\n",
    "    u1 = 2 * tt.sqrt(q1) * q2\n",
    "    u2 = tt.sqrt(q1) * (1 - 2 * q2)\n",
    "    \n",
    "    rp = pmc.Uniform(\"rp\", lower=0.15, upper=0.5, initval=0.2)\n",
    "    rm = pmc.Uniform(\"rm\", lower=0.0, upper=0.15, initval=0.1)\n",
    "    \n",
    "    lsigma = pmc.Uniform(\n",
    "        \"lsigma\", lower=np.log(0.001), upper=np.log(0.1), initval=np.log(0.01)\n",
    "    )\n",
    "    \n",
    "    bo = agf.BarycenterOrbit(ab, tb, eb, pb, wb, ib)\n",
    "    mo = agf.MoonOrbit(am, tm, em, pm, om, wm, im, mm)\n",
    "    sys = agf.System(bo, mo)\n",
    "    \n",
    "    obs = pmc.Normal(\n",
    "        \"obs\",\n",
    "        mu=sys.lightcurve(t, u1, u2, rp, rm), \n",
    "        sigma=tt.exp(lsigma), \n",
    "        observed=y\n",
    "    )\n",
    "    \n",
    "    trace = pmc.sample(\n",
    "        2000, \n",
    "        tune=2000, \n",
    "        cores=2, \n",
    "        init='adapt_full'\n",
    "    )"
   ]
  },
  {
   "cell_type": "code",
   "execution_count": 15,
   "metadata": {},
   "outputs": [
    {
     "data": {
      "text/latex": [
       "$$\n",
       "            \\begin{array}{rcl}\n",
       "            \\text{ab} &\\sim & \\operatorname{U}(0.8,~1.3)\\\\\\text{tb} &\\sim & \\operatorname{U}(0.1,~0.3)\\\\\\text{eb} &\\sim & \\operatorname{U}(0,~1)\\\\\\text{pb} &\\sim & \\operatorname{U}(355,~375)\\\\\\text{wb} &\\sim & \\operatorname{U}(-0.0001,~0.5)\\\\\\text{ib} &\\sim & \\operatorname{U}(1.54,~1.57)\\\\\\text{am} &\\sim & \\operatorname{U}(0,~0.1)\\\\\\text{tm} &\\sim & \\operatorname{U}(-2,~0)\\\\\\text{em} &\\sim & \\operatorname{U}(0,~1)\\\\\\text{pm} &\\sim & \\operatorname{U}(2,~4)\\\\\\text{om} &\\sim & \\operatorname{U}(0,~0.2)\\\\\\text{wm} &\\sim & \\operatorname{U}(0,~3.14)\\\\\\text{im} &\\sim & \\operatorname{U}(0,~1.57)\\\\\\text{mm} &\\sim & \\operatorname{U}(0,~1)\\\\\\text{q1} &\\sim & \\operatorname{U}(0,~1)\\\\\\text{q2} &\\sim & \\operatorname{U}(0,~1)\\\\\\text{rp} &\\sim & \\operatorname{U}(0.15,~0.5)\\\\\\text{rm} &\\sim & \\operatorname{U}(0,~0.15)\\\\\\text{lsigma} &\\sim & \\operatorname{U}(-6.91,~-2.3)\\\\\\text{obs} &\\sim & \\operatorname{N}(f(\\text{rp},~\\text{rm},~\\text{q2},~\\text{mm},~\\text{im},~\\text{wm},~\\text{om},~\\text{pm},~\\text{em},~\\text{tm},~\\text{am},~\\text{ib},~\\text{wb},~\\text{pb},~\\text{eb},~\\text{tb},~\\text{ab},~\\text{q1}),~f(\\text{lsigma}))\n",
       "            \\end{array}\n",
       "            $$"
      ],
      "text/plain": [
       "<pymc.model.Model at 0x1220e7b80>"
      ]
     },
     "execution_count": 15,
     "metadata": {},
     "output_type": "execute_result"
    }
   ],
   "source": [
    "model"
   ]
  },
  {
   "cell_type": "code",
   "execution_count": null,
   "metadata": {},
   "outputs": [],
   "source": []
  }
 ],
 "metadata": {
  "kernelspec": {
   "display_name": "Python 3",
   "language": "python",
   "name": "python3"
  },
  "language_info": {
   "codemirror_mode": {
    "name": "ipython",
    "version": 3
   },
   "file_extension": ".py",
   "mimetype": "text/x-python",
   "name": "python",
   "nbconvert_exporter": "python",
   "pygments_lexer": "ipython3",
   "version": "3.8.6"
  }
 },
 "nbformat": 4,
 "nbformat_minor": 4
}
