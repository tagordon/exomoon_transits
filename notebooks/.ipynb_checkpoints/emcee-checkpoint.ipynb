{
 "cells": [
  {
   "cell_type": "code",
   "execution_count": 1,
   "metadata": {},
   "outputs": [],
   "source": [
    "import numpy as np\n",
    "import matplotlib.pyplot as plt\n",
    "\n",
    "import sys\n",
    "sys.path.append('../gefera')\n",
    "import gefera as gf"
   ]
  },
  {
   "cell_type": "code",
   "execution_count": 2,
   "metadata": {},
   "outputs": [],
   "source": [
    "t1 = np.linspace(67.8, 68.8, 1000)\n",
    "t2 = t1 + 365\n",
    "t = np.hstack((t1, t2))\n",
    "\n",
    "ap = 1.0\n",
    "tp = 0.2\n",
    "ep = 0.2\n",
    "pp = 365\n",
    "wp = 0.1 * np.pi / 180\n",
    "ip = 90.0 * np.pi / 180\n",
    "\n",
    "am = 0.007\n",
    "tm = -1.3\n",
    "em = 0.1\n",
    "pm = 3\n",
    "om = 0.1 * np.pi / 180\n",
    "wm = 90 * np.pi / 180\n",
    "im = 88.0 * np.pi / 180\n",
    "mm = 0.01\n",
    "\n",
    "u1 = 0.5\n",
    "u2 = 0.3\n",
    "rp = 0.2\n",
    "rm = 0.1"
   ]
  },
  {
   "cell_type": "code",
   "execution_count": 3,
   "metadata": {},
   "outputs": [],
   "source": [
    "po = gf.BarycenterOrbit(ap, tp, ep, pp, wp, ip)\n",
    "mo = gf.MoonOrbit(am, tm, em, pm, om, wm, im, mm)\n",
    "sys = gf.System(po, mo)\n",
    "lc = sys.lightcurve(t, u1, u2, rp, rm)\n",
    "y = lc + np.random.randn(len(lc)) * 0.01"
   ]
  },
  {
   "cell_type": "code",
   "execution_count": 10,
   "metadata": {},
   "outputs": [],
   "source": [
    "inbounds = lambda x, l, u: 0.0 if ((x > l) & (x < u)) else -np.inf\n",
    "\n",
    "def log_prior(args):\n",
    "    \n",
    "    lsigma, rp, rm, u1, u2, ab, tb, eb, pb, wb, ib, am, tm, em, pm, om, wm, im, mm = args\n",
    "    \n",
    "    prior = 0.0 if rm < rp and u1 + u2 < 1 and u1 > 0 and u1 + 2 * u2 > 0 else -np.inf\n",
    "    \n",
    "    return (prior \n",
    "            + inbounds(lsigma, np.log(0.001), np.log(0.1))\n",
    "            + inbounds(rp, 0., 0.5)\n",
    "            + inbounds(rm, 0.0, 0.5)\n",
    "            + inbounds(ab, 0.5, 1.5)\n",
    "            + inbounds(tb, 0.1, 0.3)\n",
    "            + inbounds(eb, 0.0, 1.0)\n",
    "            + inbounds(pb, 300, 400)\n",
    "            + inbounds(wb, -0.0001, 0.5)\n",
    "            + inbounds(ib, 85 * np.pi / 180, 90.1 * np.pi / 180)\n",
    "            + inbounds(am, 0.0, 0.5)\n",
    "            + inbounds(tm, -5.0, 0.0)\n",
    "            + inbounds(em, 0.0, 1.0)\n",
    "            + inbounds(pm, 0.0, 5.0)\n",
    "            + inbounds(om, 0.0, 0.5)\n",
    "            + inbounds(wm, 0.0, np.pi)\n",
    "            + inbounds(im, 0.0, np.pi / 2)\n",
    "            + inbounds(mm, 0.0, 1.0)\n",
    "    )\n",
    "\n",
    "def log_like(args, y):\n",
    "    \n",
    "    lsigma, rp, rm, u1, u2, ab, tb, eb, pb, wb, ib, am, tm, em, pm, om, wm, im, mm = args\n",
    "    bo = gf.BarycenterOrbit(ab, tb, eb, pb, wb, ib)\n",
    "    mo = gf.MoonOrbit(am, tm, em, pm, om, wm, im, mm)\n",
    "    sys = gf.System(bo, mo)\n",
    "    return sys.loglike(y, t, u1, u2, rp, rm, np.exp(lsigma))\n",
    "\n",
    "def log_prob(args, y):\n",
    "    lp = log_prior(args)\n",
    "    ll = log_like(args, y)\n",
    "    if np.isfinite(ll):\n",
    "        return lp + ll\n",
    "    else:\n",
    "        return -np.inf"
   ]
  },
  {
   "cell_type": "code",
   "execution_count": null,
   "metadata": {},
   "outputs": [
    {
     "name": "stderr",
     "output_type": "stream",
     "text": [
      "  2%|▏         | 100/5000 [00:07<05:27, 14.96it/s]"
     ]
    }
   ],
   "source": [
    "import emcee\n",
    "\n",
    "init_params = [np.log(0.01), rp, rm, 0.5, 0.3, ap, tp, ep, pp, wp, ip, am, tm, em, pm, om, wm, im, mm]\n",
    "pos = init_params + 1e-4 * np.random.randn(50, len(init_params))\n",
    "nwalkers, ndim = pos.shape\n",
    "\n",
    "sampler = emcee.EnsembleSampler(\n",
    "    nwalkers, ndim, log_prob, args=(y,)\n",
    ")\n",
    "sampler.run_mcmc(pos, 5000, progress=True);"
   ]
  },
  {
   "cell_type": "code",
   "execution_count": null,
   "metadata": {},
   "outputs": [],
   "source": []
  }
 ],
 "metadata": {
  "kernelspec": {
   "display_name": "Python 3",
   "language": "python",
   "name": "python3"
  },
  "language_info": {
   "codemirror_mode": {
    "name": "ipython",
    "version": 3
   },
   "file_extension": ".py",
   "mimetype": "text/x-python",
   "name": "python",
   "nbconvert_exporter": "python",
   "pygments_lexer": "ipython3",
   "version": "3.8.6"
  }
 },
 "nbformat": 4,
 "nbformat_minor": 4
}
