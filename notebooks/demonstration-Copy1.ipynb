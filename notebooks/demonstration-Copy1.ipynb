{
 "cells": [
  {
   "cell_type": "code",
   "execution_count": 1,
   "metadata": {},
   "outputs": [],
   "source": [
    "import numpy as np\n",
    "import matplotlib.pyplot as plt\n",
    "import sys\n",
    "sys.path.append('../system')\n",
    "import system"
   ]
  },
  {
   "cell_type": "code",
   "execution_count": 2,
   "metadata": {},
   "outputs": [],
   "source": [
    "t = np.linspace(67.8, 69.5, 100000)\n",
    "\n",
    "ap = 1.0\n",
    "t0p = 0.2\n",
    "ep = 0.2\n",
    "Pp = 365\n",
    "wp = 0.0 * np.pi / 180\n",
    "ip = 90.0 * np.pi / 180\n",
    "\n",
    "am = 0.005\n",
    "t0m = -1.3\n",
    "em = 0.3\n",
    "Pm = 2\n",
    "Om = 0.0 * np.pi / 180\n",
    "wm = 90.0 * np.pi / 180\n",
    "im = 88.0 * np.pi / 180\n",
    "mm = 0.25"
   ]
  },
  {
   "cell_type": "code",
   "execution_count": 3,
   "metadata": {},
   "outputs": [],
   "source": [
    "# figure out the lan/lop confusion \n",
    "moon = system.moon(0.08, am, t0m, em, Pm, Om, wm, im, mm)\n",
    "planet = system.planet(0.1, ap, t0p, ep, Pp, wp, ip)\n",
    "star = system.star(0.5, 0.5)\n",
    "sys = system.system(star, planet, moon)"
   ]
  },
  {
   "cell_type": "code",
   "execution_count": 4,
   "metadata": {},
   "outputs": [
    {
     "name": "stdout",
     "output_type": "stream",
     "text": [
      "CPU times: user 52.7 ms, sys: 15.9 ms, total: 68.6 ms\n",
      "Wall time: 68 ms\n",
      "CPU times: user 125 ms, sys: 50.1 ms, total: 175 ms\n",
      "Wall time: 175 ms\n"
     ]
    }
   ],
   "source": [
    "%time sys.compute(t, grad=False)\n",
    "%time sys.compute(t, grad=True)"
   ]
  },
  {
   "cell_type": "code",
   "execution_count": null,
   "metadata": {},
   "outputs": [],
   "source": [
    "%time sys.compute(t, grad=True)\n",
    "grad = sys.grad()\n",
    "lc = sys.lightcurve()"
   ]
  },
  {
   "cell_type": "code",
   "execution_count": null,
   "metadata": {},
   "outputs": [],
   "source": [
    "fig, axs = plt.subplots(5, 4, figsize=(15, 15))\n",
    "axs = axs.flatten()\n",
    "\n",
    "axs[0].plot(t, lc)\n",
    "for i, (name, gradient) in enumerate(list(grad.items())):\n",
    "    axs[i + 1].plot(t, gradient)\n",
    "    axs[i + 1].annotate(name, xy=(0.05, 0.85), xycoords='axes fraction')"
   ]
  },
  {
   "cell_type": "code",
   "execution_count": null,
   "metadata": {},
   "outputs": [],
   "source": [
    "d = 0.000001\n",
    "\n",
    "moon = system.moon(0.05, am, t0m, em, Pm, Om, wm, im, mm)\n",
    "planet = system.planet(0.1, ap, t0p, ep, Pp, wp, ip)\n",
    "star = system.star(0.5, 0.5)\n",
    "sys = system.system(star, planet, moon)\n",
    "sys.compute(t)\n",
    "lc1 = sys._lc\n",
    "\n",
    "sys.compute(t, grad=True)\n",
    "lc = sys._lc\n",
    "\n",
    "moon = system.moon(0.05, am, t0m, em, Pm, Om, wm, im, mm)\n",
    "planet = system.planet(0.1, ap + d, t0p, ep, Pp, wp, ip)\n",
    "star = system.star(0.5, 0.5)\n",
    "sys = system.system(star, planet, moon)\n",
    "sys.compute(t)\n",
    "lc2 = sys._lc\n",
    "\n",
    "sys.compute(t, grad=True)\n",
    "grad = sys.grad()\n",
    "\n",
    "plt.plot(t, (lc2 - lc1)/d)\n",
    "plt.plot(t, grad['a_p'])"
   ]
  },
  {
   "cell_type": "code",
   "execution_count": null,
   "metadata": {},
   "outputs": [],
   "source": [
    "n = 2 * np.pi / Pp\n",
    "x = (1 - (1 - ep**2)) / (ep * (1 + ep * np.cos(np.pi * 0.5 - wp)))\n",
    "E = np.arccos(x)\n",
    "M = E - ep * np.sin(E)\n",
    "tt = M / n + t0p\n",
    "tt"
   ]
  },
  {
   "cell_type": "code",
   "execution_count": null,
   "metadata": {},
   "outputs": [],
   "source": [
    "t0p = tt - M / n"
   ]
  },
  {
   "cell_type": "code",
   "execution_count": null,
   "metadata": {},
   "outputs": [],
   "source": [
    "from kep import grad_impacts, impacts\n",
    "ms = ac.M_sun.value / ac.M_earth.value\n",
    "%time bp, bpm, theta, dbp, dbpm, dtheta = grad_impacts(t, ms, t0p, ep, Pp, Op, wp, ip, mp, t0m, em, Pm, Om, wm, im, mm)\n",
    "%time bp, bpm, theta = impacts(t, ms, t0p, ep, Pp, Op, wp, ip, mp, t0m, em, Pm, Om, wm, im, mm)"
   ]
  },
  {
   "cell_type": "code",
   "execution_count": null,
   "metadata": {},
   "outputs": [],
   "source": [
    "d = 0.000001\n",
    "ms = ac.M_sun.value / ac.M_earth.value\n",
    "bp1, bpm1, theta1 = impacts(t, ms, t0p, ep, Pp, Op, wp, ip, mp, t0m, em, Pm, Om, wm, im, mm)\n",
    "bp2, bpm2, theta2 = impacts(t, ms, t0p, ep, Pp, Op + d, wp, ip, mp, t0m, em, Pm, Om , wm, im, mm)\n",
    "bp3, bpm3, theta3 = impacts(t, ms, t0p, ep, Pp, Op - d, wp, ip, mp, t0m, em, Pm, Om , wm, im, mm)\n",
    "plt.plot(t, (bp2 - bp3)/(2 * d))\n",
    "plt.plot(t, dbp[:, 4])\n",
    "plt.figure()\n",
    "plt.plot(t, dbp[:, 4] - (bp2 - bp3)/(2 * d))"
   ]
  },
  {
   "cell_type": "code",
   "execution_count": null,
   "metadata": {},
   "outputs": [],
   "source": [
    "d = 0.0000000001\n",
    "bp1, bpm1, theta1 = input_coords(t, 1, t0p, ep, Pp, Op, wp, ip, mp, t0m, em, Pm, Om, wm, im, mm)\n",
    "bp2, bpm2, theta2 = input_coords(t, 1, t0p, ep, Pp, Op, wp, ip, mp + d, t0m, em, Pm, Om, wm, im, mm)\n",
    "plt.plot(t, dbp[:, 7])\n",
    "plt.plot(t, (bp2 - bp1)/d)\n",
    "plt.figure()\n",
    "plt.plot(t, dbp[:, 7] - (bp2 - bp1)/d)\n",
    "#plt.plot(t, (bpm1-bpm2)/d)\n",
    "#plt.plot(t, (theta1-theta2)/d)"
   ]
  },
  {
   "cell_type": "code",
   "execution_count": null,
   "metadata": {},
   "outputs": [],
   "source": []
  },
  {
   "cell_type": "code",
   "execution_count": null,
   "metadata": {},
   "outputs": [],
   "source": [
    "plt.plot(t, bp1)\n",
    "plt.plot(t, bp2)"
   ]
  },
  {
   "cell_type": "code",
   "execution_count": null,
   "metadata": {},
   "outputs": [],
   "source": [
    "plt.plot(t, bp2)\n",
    "plt.plot(t, bp1)"
   ]
  },
  {
   "cell_type": "code",
   "execution_count": null,
   "metadata": {},
   "outputs": [],
   "source": [
    "[plt.plot(t, dbp[:, i]) for i in range(15)];"
   ]
  },
  {
   "cell_type": "code",
   "execution_count": null,
   "metadata": {},
   "outputs": [],
   "source": [
    "star = system.star(1, 0.5, 0.5)\n",
    "planet = system.rock(0.1, 10, t0p, ep, Pp, Op, wp, ip)\n",
    "moon = system.rock(0.05, 5, t0m, em, Pm, Om, wm, im)\n",
    "sys = system.system(star, planet, moon)\n",
    "%time sys.compute(t)"
   ]
  },
  {
   "cell_type": "code",
   "execution_count": null,
   "metadata": {},
   "outputs": [],
   "source": [
    "plt.plot(t, sys.lightcurve())"
   ]
  },
  {
   "cell_type": "code",
   "execution_count": null,
   "metadata": {},
   "outputs": [],
   "source": [
    "plt.plot(t, sys.derivatives());"
   ]
  },
  {
   "cell_type": "code",
   "execution_count": null,
   "metadata": {},
   "outputs": [],
   "source": [
    "a = np.random.randn(15, 100000)\n",
    "b = np.random.randn(15, 100000)\n",
    "c = np.random.randn(15, 100000)\n",
    "d = np.random.randn(15, 100000)\n",
    "e = np.random.randn(15, 100000)\n",
    "f = np.random.randn(15, 100000)\n",
    "g = np.random.randn(15, 100000)\n",
    "h = np.random.randn(15, 100000)\n",
    "i = np.random.randn(15, 100000)\n",
    "j = np.random.randn(15, 100000)"
   ]
  },
  {
   "cell_type": "code",
   "execution_count": null,
   "metadata": {},
   "outputs": [],
   "source": [
    "j"
   ]
  },
  {
   "cell_type": "code",
   "execution_count": null,
   "metadata": {},
   "outputs": [],
   "source": [
    "mp = 10\n",
    "mm = 5"
   ]
  },
  {
   "cell_type": "code",
   "execution_count": null,
   "metadata": {},
   "outputs": [],
   "source": [
    "(1, 2, 3) + (4, 5, 6)"
   ]
  },
  {
   "cell_type": "code",
   "execution_count": null,
   "metadata": {},
   "outputs": [],
   "source": [
    "def testfunc(a, b, c, d, e, f):\n",
    "    return a + b + c + d + e + f"
   ]
  },
  {
   "cell_type": "code",
   "execution_count": null,
   "metadata": {},
   "outputs": [],
   "source": [
    "testfunc(*((1, 2, 3) + (4, 5, 6)))"
   ]
  },
  {
   "cell_type": "code",
   "execution_count": null,
   "metadata": {},
   "outputs": [],
   "source": [
    "from phot import flux"
   ]
  },
  {
   "cell_type": "code",
   "execution_count": null,
   "metadata": {},
   "outputs": [],
   "source": [
    "lc = flux(0.5, 0.5, 0.1, 0.05, bp, bpm, np.cos(theta), np.sin(theta))\n",
    "plt.plot(t, lc[:, 0])"
   ]
  },
  {
   "cell_type": "code",
   "execution_count": null,
   "metadata": {},
   "outputs": [],
   "source": [
    "dflux = lc[:, 3][:, None] * dbp + lc[:, 4][:, None] * dbpm + lc[:, 5][:, None] * dtheta"
   ]
  },
  {
   "cell_type": "code",
   "execution_count": null,
   "metadata": {},
   "outputs": [],
   "source": [
    "dflux"
   ]
  },
  {
   "cell_type": "code",
   "execution_count": null,
   "metadata": {},
   "outputs": [],
   "source": [
    "np.shape(np.hstack([np.ones(len(t))[:, None], dflux, np.ones(len(t))[:, None]]))"
   ]
  },
  {
   "cell_type": "code",
   "execution_count": null,
   "metadata": {},
   "outputs": [],
   "source": [
    "np.shape(dflux)"
   ]
  },
  {
   "cell_type": "code",
   "execution_count": null,
   "metadata": {},
   "outputs": [],
   "source": [
    "arr = np.vstack([np.array([1, 2, 3]), np.array([4, 5, 6])])\n",
    "names = ['line1', 'line2']"
   ]
  },
  {
   "cell_type": "code",
   "execution_count": null,
   "metadata": {},
   "outputs": [],
   "source": [
    "d = {}\n",
    "{names[i]: arr[i] for i in range(len(names))}"
   ]
  },
  {
   "cell_type": "code",
   "execution_count": null,
   "metadata": {},
   "outputs": [],
   "source": [
    "(1,) + (2, 3)"
   ]
  },
  {
   "cell_type": "code",
   "execution_count": null,
   "metadata": {},
   "outputs": [],
   "source": [
    "str(1)"
   ]
  },
  {
   "cell_type": "code",
   "execution_count": null,
   "metadata": {},
   "outputs": [],
   "source": []
  }
 ],
 "metadata": {
  "kernelspec": {
   "display_name": "Python 3",
   "language": "python",
   "name": "python3"
  },
  "language_info": {
   "codemirror_mode": {
    "name": "ipython",
    "version": 3
   },
   "file_extension": ".py",
   "mimetype": "text/x-python",
   "name": "python",
   "nbconvert_exporter": "python",
   "pygments_lexer": "ipython3",
   "version": "3.8.6"
  }
 },
 "nbformat": 4,
 "nbformat_minor": 4
}
