{
 "cells": [
  {
   "cell_type": "code",
   "execution_count": 1,
   "metadata": {},
   "outputs": [],
   "source": [
    "import numpy as np\n",
    "import matplotlib.pyplot as plt\n",
    "import sys\n",
    "sys.path.append('../system')\n",
    "import system"
   ]
  },
  {
   "cell_type": "code",
   "execution_count": 2,
   "metadata": {},
   "outputs": [
    {
     "data": {
      "image/png": "[encoded data removed]",
      "text/plain": [
       "<Figure size 432x288 with 1 Axes>"
      ]
     },
     "metadata": {
      "needs_background": "light"
     },
     "output_type": "display_data"
    }
   ],
   "source": [
    "t = np.linspace(67.8, 68.8, 10000)\n",
    "\n",
    "ap = 1.0\n",
    "t0p = 0.2\n",
    "ep = 0.2\n",
    "Pp = 365\n",
    "wp = 0.0 * np.pi / 180\n",
    "ip = 90.0 * np.pi / 180\n",
    "\n",
    "am = 0.007\n",
    "t0m = -1.3\n",
    "em = 0.1\n",
    "Pm = 2\n",
    "Om = 0.0 * np.pi / 180\n",
    "wm = 90.0 * np.pi / 180\n",
    "im = 90.0 * np.pi / 180\n",
    "mm = 0.25\n",
    "\n",
    "moon = system.moon(0.04, am, t0m, em, Pm, Om, wm, im, mm)\n",
    "planet = system.planet(0.1, ap, t0p, ep, Pp, wp, ip)\n",
    "star = system.star(0.4, 0.5)\n",
    "\n",
    "sys = system.system(star, planet, moon)\n",
    "sys.compute(t, grad=True)\n",
    "\n",
    "lctrue = sys.lightcurve()\n",
    "y = lctrue + np.random.randn(len(t)) * 0.001\n",
    "plt.plot(t, y)\n",
    "plt.plot(t, lctrue)\n",
    "\n",
    "init_params = [0.001, 0.1, 0.04, 0.4, 0.5, ap, t0p, ep, Pp, wp, ip, am, t0m, em, Pm, Om, wm, im, mm]"
   ]
  },
  {
   "cell_type": "code",
   "execution_count": 3,
   "metadata": {},
   "outputs": [],
   "source": [
    "def log_prior(args):\n",
    "    \n",
    "    sigma, rp, rm, u1, u2, ap, tp, ep, pp, wp, ip, am, tm, em, pm, om, wm, im, mm = args\n",
    "    \n",
    "    if (mm < 1 and am < ap and 0 <= ep <= 1 and 0 <= em <= 1 and rm < rp and \n",
    "        u1 + u2 < 1 and u1 > 0 and u1 + 2 * u2 > 0):\n",
    "        return 0.0\n",
    "    return - np.inf\n",
    "\n",
    "def log_like(args, y):\n",
    "    \n",
    "    sigma, rp, rm, u1, u2, ap, tp, ep, pp, wp, ip, am, tm, em, pm, om, wm, im, mm = args\n",
    "    moon = system.moon(rm, am, tm, em, pm, om, wm, im, mm)\n",
    "    planet = system.planet(rp, ap, tp, ep, pp, wp, ip)\n",
    "    star = system.star(u1, u2)\n",
    "    sys = system.system(star, planet, moon)\n",
    "    sys.compute(t, grad=False)\n",
    "    return sys.loglike(y, sigma)\n",
    "\n",
    "def log_prob(args, y):\n",
    "    lp = log_prior(args)\n",
    "    return lp + log_like(args, y)"
   ]
  },
  {
   "cell_type": "code",
   "execution_count": 4,
   "metadata": {},
   "outputs": [],
   "source": [
    "from scipy.optimize import minimize \n",
    "\n",
    "nll = lambda *args: -log_like(*args)\n",
    "soln = minimize(nll, init_params, args=(y))"
   ]
  },
  {
   "cell_type": "code",
   "execution_count": null,
   "metadata": {},
   "outputs": [
    {
     "name": "stderr",
     "output_type": "stream",
     "text": [
      "  8%|▊         | 408/5000 [01:46<19:52,  3.85it/s]"
     ]
    }
   ],
   "source": [
    "import emcee\n",
    "\n",
    "pos = soln.x + 1e-4 * np.random.randn(50, len(soln.x))\n",
    "nwalkers, ndim = pos.shape\n",
    "\n",
    "sampler = emcee.EnsembleSampler(\n",
    "    nwalkers, ndim, log_prob, args=(y,)\n",
    ")\n",
    "sampler.run_mcmc(pos, 5000, progress=True);"
   ]
  },
  {
   "cell_type": "code",
   "execution_count": null,
   "metadata": {},
   "outputs": [],
   "source": [
    "import corner\n",
    "\n",
    "fig = corner.corner(\n",
    "    flat_samples, labels=labels, truths=[m_true, b_true, np.log(f_true)]\n",
    ");"
   ]
  },
  {
   "cell_type": "code",
   "execution_count": null,
   "metadata": {},
   "outputs": [],
   "source": [
    "n = 100\n",
    "inds = np.random.randint(len(flat_samples), size=n)"
   ]
  }
 ],
 "metadata": {
  "kernelspec": {
   "display_name": "Python 3",
   "language": "python",
   "name": "python3"
  },
  "language_info": {
   "codemirror_mode": {
    "name": "ipython",
    "version": 3
   },
   "file_extension": ".py",
   "mimetype": "text/x-python",
   "name": "python",
   "nbconvert_exporter": "python",
   "pygments_lexer": "ipython3",
   "version": "3.8.6"
  }
 },
 "nbformat": 4,
 "nbformat_minor": 4
}
