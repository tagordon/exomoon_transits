{
 "cells": [
  {
   "cell_type": "code",
   "execution_count": 1,
   "metadata": {},
   "outputs": [],
   "source": [
    "import numpy as np\n",
    "import matplotlib.pyplot as plt\n",
    "\n",
    "import sys\n",
    "sys.path.append('../gefera')\n",
    "import gefera as gf"
   ]
  },
  {
   "cell_type": "code",
   "execution_count": 2,
   "metadata": {},
   "outputs": [],
   "source": [
    "t1 = np.linspace(67.8, 68.8, 1000)\n",
    "t2 = t1 + 365\n",
    "t = np.hstack((t1, t2))\n",
    "\n",
    "ap = 1.0\n",
    "tp = 0.2\n",
    "ep = 0.2\n",
    "pp = 365\n",
    "wp = 0.1 * np.pi / 180\n",
    "ip = 90.0 * np.pi / 180\n",
    "\n",
    "am = 0.007\n",
    "tm = -1.3\n",
    "em = 0.1\n",
    "pm = 3\n",
    "om = 0.1 * np.pi / 180\n",
    "wm = 90 * np.pi / 180\n",
    "im = 88.0 * np.pi / 180\n",
    "mm = 0.01\n",
    "\n",
    "u1 = 0.5\n",
    "u2 = 0.3\n",
    "rp = 0.2\n",
    "rm = 0.1"
   ]
  },
  {
   "cell_type": "code",
   "execution_count": 3,
   "metadata": {},
   "outputs": [],
   "source": [
    "po = gf.BarycenterOrbit(ap, tp, ep, pp, wp, ip)\n",
    "mo = gf.MoonOrbit(am, tm, em, pm, om, wm, im, mm)\n",
    "sys = gf.System(po, mo)\n",
    "lc = sys.lightcurve(t, u1, u2, rp, rm)\n",
    "y = lc + np.random.randn(len(lc)) * 0.01"
   ]
  },
  {
   "cell_type": "code",
   "execution_count": 4,
   "metadata": {},
   "outputs": [
    {
     "data": {
      "text/plain": [
       "(67.8, 68.8)"
      ]
     },
     "execution_count": 4,
     "metadata": {},
     "output_type": "execute_result"
    },
    {
     "data": {
      "image/png": "[encoded data removed]",
      "text/plain": [
       "<Figure size 432x288 with 1 Axes>"
      ]
     },
     "metadata": {
      "needs_background": "light"
     },
     "output_type": "display_data"
    }
   ],
   "source": [
    "plt.plot(t, y, '.')\n",
    "plt.xlim(67.8, 68.8)"
   ]
  },
  {
   "cell_type": "code",
   "execution_count": 5,
   "metadata": {},
   "outputs": [],
   "source": [
    "import gefera_aesara as agf"
   ]
  },
  {
   "cell_type": "code",
   "execution_count": null,
   "metadata": {},
   "outputs": [
    {
     "name": "stderr",
     "output_type": "stream",
     "text": [
      "Auto-assigning NUTS sampler...\n",
      "Initializing NUTS using adapt_full...\n",
      "/usr/local/lib/python3.8/site-packages/pymc/step_methods/hmc/quadpotential.py:611: UserWarning: QuadPotentialFullAdapt is an experimental feature\n",
      "  warnings.warn(\"QuadPotentialFullAdapt is an experimental feature\")\n"
     ]
    }
   ],
   "source": [
    "import pymc as pmc\n",
    "from aesara import tensor as tt\n",
    "\n",
    "with pmc.Model() as model:\n",
    "        \n",
    "    ab = pmc.Uniform(\n",
    "        \"ab\", lower=0.8, upper=1.3, initval=1.0\n",
    "    )\n",
    "    tb = pmc.Uniform(\n",
    "        \"tb\", lower=0.1, upper=0.3, initval=0.2\n",
    "    )\n",
    "    eb = pmc.Uniform(\n",
    "        \"eb\", lower=0.0, upper=1.0, initval=0.2\n",
    "    )\n",
    "    pb = pmc.Uniform(\n",
    "        \"pb\", lower=355, upper=375, initval=365\n",
    "    )\n",
    "    wb = pmc.Uniform(\n",
    "        \"wb\", lower=-0.0001, upper=0.5, initval=0.1 * np.pi / 180\n",
    "    )\n",
    "    ib = pmc.Uniform(\n",
    "        \"ib\", lower=88*np.pi/180, upper=90.1*np.pi/180, initval=np.pi/2\n",
    "    )\n",
    "    \n",
    "    am = pmc.Uniform(\n",
    "        \"am\", lower=0.0, upper=0.1, initval=0.007\n",
    "    )\n",
    "    tm = pmc.Uniform(\n",
    "        \"tm\", lower=-2.0, upper=0.0, initval=-1.2\n",
    "    )\n",
    "    em = pmc.Uniform(\n",
    "        \"em\", lower=0.0, upper=1.0, initval=0.1\n",
    "    )\n",
    "    pm = pmc.Uniform(\n",
    "        \"pm\", lower=2.0, upper=4.0, initval=3.0\n",
    "    )\n",
    "    om = pmc.Uniform(\n",
    "        \"om\", lower=0.0, upper=0.2, initval=0.1\n",
    "    )\n",
    "    wm = pmc.Uniform(\n",
    "        \"wm\", lower=0.0, upper=np.pi, initval=np.pi/2\n",
    "    )\n",
    "    im = pmc.Uniform(\n",
    "        \"im\", lower=0.0, upper=np.pi/2, initval=np.pi * 88 / 180\n",
    "    )\n",
    "    mm = pmc.Uniform(\n",
    "        \"mm\", lower=0.0, upper=1.0, initval=0.01\n",
    "    )\n",
    "    \n",
    "    q1 = pmc.Uniform(\"q1\", lower=0.0, upper=1.0, initval=0.5)\n",
    "    q2 = pmc.Uniform(\"q2\", lower=0.0, upper=1.0, initval=0.2)\n",
    "    u1 = 2 * tt.sqrt(q1) * q2\n",
    "    u2 = tt.sqrt(q1) * (1 - 2 * q2)\n",
    "    \n",
    "    rp = pmc.Uniform(\"rp\", lower=0.15, upper=0.5, initval=0.2)\n",
    "    rm = pmc.Uniform(\"rm\", lower=0.0, upper=0.15, initval=0.1)\n",
    "    \n",
    "    lsigma = pmc.Uniform(\n",
    "        \"lsigma\", lower=np.log(0.001), upper=np.log(0.1), initval=np.log(0.01)\n",
    "    )\n",
    "    \n",
    "    bo = agf.BarycenterOrbit(ab, tb, eb, pb, wb, ib)\n",
    "    mo = agf.MoonOrbit(am, tm, em, pm, om, wm, im, mm)\n",
    "    sys = agf.System(bo, mo)\n",
    "    \n",
    "    obs = pmc.Normal(\n",
    "        \"obs\",\n",
    "        mu=sys.lightcurve(t, u1, u2, rp, rm), \n",
    "        sigma=tt.exp(lsigma), \n",
    "        observed=y\n",
    "    )\n",
    "    \n",
    "    trace = pmc.sample(\n",
    "        2000, \n",
    "        tune=2000, \n",
    "        cores=2, \n",
    "        init='adapt_full'\n",
    "    )"
   ]
  },
  {
   "cell_type": "code",
   "execution_count": null,
   "metadata": {},
   "outputs": [],
   "source": [
    "import arviz as az\n",
    "az.plot_pair(trace, divergences=True);"
   ]
  },
  {
   "cell_type": "code",
   "execution_count": null,
   "metadata": {},
   "outputs": [],
   "source": [
    "n = 1000\n",
    "df = trace.to_dataframe()\n",
    "inds = np.random.randint(10000, size=n)\n",
    "\n",
    "plt.figure(figsize=(10, 10))\n",
    "for i in inds:\n",
    "    ap = df['posterior', 'ab'][i]\n",
    "    tp = df['posterior', 'tb'][i]\n",
    "    pp = df['posterior', 'pb'][i]\n",
    "    wp = df['posterior', 'wb'][i]\n",
    "    ip = df['posterior', 'ib'][i]\n",
    "    am = df['posterior', 'am'][i]\n",
    "    tm = df['posterior', 'tm'][i]\n",
    "    pm = df['posterior', 'pm'][i]\n",
    "    om = df['posterior', 'om'][i]\n",
    "    wm = df['posterior', 'wm'][i]\n",
    "    im = df['posterior', 'im'][i]\n",
    "    mm = df['posterior', 'mm'][i]\n",
    "    ep = df['posterior', 'ep'][i]\n",
    "    em = df['posterior', 'em'][i]\n",
    "    q1 = df['posterior', 'q1'][i]\n",
    "    q2 = df['posterior', 'q2'][i]\n",
    "    rp = df['posterior', 'rp'][i]\n",
    "    rm = df['posterior', 'rm'][i]\n",
    "    plt.plot(t, model.obs.eval(\n",
    "        {\n",
    "            model.ap:ap, \n",
    "            model.tp:tp, \n",
    "            model.pp:pp, \n",
    "            model.wp:wp, \n",
    "            model.ip:ip,\n",
    "            model.am:am,\n",
    "            model.tm:tm,\n",
    "            model.pm:pm,\n",
    "            model.om:om,\n",
    "            model.wm:wm,\n",
    "            model.im:im,\n",
    "            model.mm:mm,\n",
    "            model.ep:ep,\n",
    "            model.em:em,\n",
    "            model.q1:q1,\n",
    "            model.q2:q2,\n",
    "            model.rp:rp,\n",
    "            model.rm:rm,\n",
    "            model.lsigma:-100\n",
    "        }\n",
    "    ), 'r-', alpha=0.1, linewidth=2)\n",
    "    \n",
    "plt.plot(t, y, 'bo', alpha=0.3)\n",
    "plt.plot(t, lctrue, 'k-', linewidth=2)\n",
    "plt.savefig('/Users/tgordon/Desktop/pymc.pdf')"
   ]
  },
  {
   "cell_type": "code",
   "execution_count": null,
   "metadata": {},
   "outputs": [],
   "source": []
  }
 ],
 "metadata": {
  "kernelspec": {
   "display_name": "Python 3",
   "language": "python",
   "name": "python3"
  },
  "language_info": {
   "codemirror_mode": {
    "name": "ipython",
    "version": 3
   },
   "file_extension": ".py",
   "mimetype": "text/x-python",
   "name": "python",
   "nbconvert_exporter": "python",
   "pygments_lexer": "ipython3",
   "version": "3.8.6"
  }
 },
 "nbformat": 4,
 "nbformat_minor": 4
}
