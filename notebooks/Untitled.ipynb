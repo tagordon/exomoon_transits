{
 "cells": [
  {
   "cell_type": "code",
   "execution_count": 2,
   "metadata": {},
   "outputs": [],
   "source": [
    "import ctypes\n",
    "clib = ctypes.CDLL(\"../src/wrapper.so\")"
   ]
  },
  {
   "cell_type": "code",
   "execution_count": 5,
   "metadata": {},
   "outputs": [],
   "source": [
    "clib.kepler_solve.restype = None\n",
    "\n",
    "M = np.linspace(0, 2 * np.pi)\n",
    "ecc = 0.2\n",
    "j = len(M)\n",
    "\n",
    "M = (ctypes.c_double * j).from_buffer(M)\n",
    "ecc = ctypes.c_double(ecc)\n",
    "cosf = (ctypes.c_double * j).from_buffer(np.zeros(j))\n",
    "sinf = (ctypes.c_double * j).from_buffer(np.zeros(j))\n",
    "    \n",
    "j = ctypes.c_int(j)"
   ]
  },
  {
   "cell_type": "code",
   "execution_count": 25,
   "metadata": {},
   "outputs": [],
   "source": [
    "clib.kepler_solve(ctypes.byref(M), ctypes.byref(ecc), ctypes.byref(cosf), ctypes.byref(sinf), ctypes.byref(j))"
   ]
  },
  {
   "cell_type": "code",
   "execution_count": 37,
   "metadata": {},
   "outputs": [],
   "source": [
    "from ctypes import byref\n",
    "\n",
    "def grad_impacts(t, ap, t0p, ep, Pp, wp, ip, am, t0m, em, Pm, Om, wm, im, mm):\n",
    "    \n",
    "    clib.grad_impacts.restype = None\n",
    "    j = len(t)\n",
    "    \n",
    "    bp = (ctypes.c_double * j).from_buffer(np.zeros(j))\n",
    "    bpm = (ctypes.c_double * j).from_buffer(np.zeros(j))\n",
    "    theta = (ctypes.c_double * j).from_buffer(np.zeros(j))\n",
    "    \n",
    "    dbp = ((ctypes.c_double * j) * 14).from_buffer(np.zeros((j, 14)))\n",
    "    dbpm = ((ctypes.c_double * j) * 14).from_buffer(np.zeros((j, 14)))\n",
    "    dtheta = ((ctypes.c_double * j) * 14).from_buffer(np.zeros((j, 14)))\n",
    "    \n",
    "    t = byref((ctypes.c_double * j).from_buffer(t))\n",
    "    j = byref(ctypes.c_int(j))\n",
    "    \n",
    "    ap = byref(ctypes.c_double(ap))\n",
    "    t0p = byref(ctypes.c_double(t0p))\n",
    "    ep = byref(ctypes.c_double(ep))\n",
    "    Pp = byref(ctypes.c_double(Pp))\n",
    "    wp = byref(ctypes.c_double(wp))\n",
    "    ip = byref(ctypes.c_double(ip))\n",
    "    am = byref(ctypes.c_double(am))\n",
    "    t0m = byref(ctypes.c_double(t0m))\n",
    "    em = byref(ctypes.c_double(em))\n",
    "    Pm = byref(ctypes.c_double(Pm))\n",
    "    Om = byref(ctypes.c_double(Om))\n",
    "    wm = byref(ctypes.c_double(wm))\n",
    "    im = byref(ctypes.c_double(im))\n",
    "    mm = byref(ctypes.c_double(mm))\n",
    "    \n",
    "    clib.grad_impacts(t, ap, t0p, ep, Pp, wp, ip, am, t0m, em, Pm, Om, wm, im, mm, j, \n",
    "                       bp, bpm, theta, dbp, dbpm, dtheta)\n",
    "    \n",
    "    return np.array(bp), np.array(bpm), np.array(theta), np.array(dbp), np.array(dbpm), np.array(dtheta)"
   ]
  },
  {
   "cell_type": "code",
   "execution_count": 40,
   "metadata": {},
   "outputs": [
    {
     "name": "stdout",
     "output_type": "stream",
     "text": [
      "CPU times: user 92.2 ms, sys: 35.2 ms, total: 127 ms\n",
      "Wall time: 129 ms\n"
     ]
    }
   ],
   "source": [
    "t = np.linspace(67.8, 69.5, 100000)\n",
    "\n",
    "ap = 1.0\n",
    "t0p = 0.2\n",
    "ep = 0.2\n",
    "Pp = 365\n",
    "wp = 0.0 * np.pi / 180\n",
    "ip = 90.0 * np.pi / 180\n",
    "\n",
    "am = 0.005\n",
    "t0m = -1.3\n",
    "em = 0.3\n",
    "Pm = 2\n",
    "Om = 0.0 * np.pi / 180\n",
    "wm = 90.0 * np.pi / 180\n",
    "im = 88.0 * np.pi / 180\n",
    "mm = 0.25\n",
    "\n",
    "%time bp, bpm, theta, dbp, dbpm, dtheta = grad_impacts(t, ap, t0p, ep, Pp, wp, ip, am, t0m, em, Pm, Om, wm, im, mm)"
   ]
  },
  {
   "cell_type": "code",
   "execution_count": 41,
   "metadata": {},
   "outputs": [
    {
     "data": {
      "text/plain": [
       "array([2.40621428, 2.40615217, 2.40609006, ..., 4.37807891, 4.37814635,\n",
       "       4.3782138 ])"
      ]
     },
     "execution_count": 41,
     "metadata": {},
     "output_type": "execute_result"
    }
   ],
   "source": [
    "bp"
   ]
  },
  {
   "cell_type": "code",
   "execution_count": null,
   "metadata": {},
   "outputs": [],
   "source": []
  }
 ],
 "metadata": {
  "kernelspec": {
   "display_name": "Python 3",
   "language": "python",
   "name": "python3"
  },
  "language_info": {
   "codemirror_mode": {
    "name": "ipython",
    "version": 3
   },
   "file_extension": ".py",
   "mimetype": "text/x-python",
   "name": "python",
   "nbconvert_exporter": "python",
   "pygments_lexer": "ipython3",
   "version": "3.8.6"
  }
 },
 "nbformat": 4,
 "nbformat_minor": 4
}
