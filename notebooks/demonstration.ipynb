{
 "cells": [
  {
   "cell_type": "code",
   "execution_count": 1,
   "metadata": {},
   "outputs": [],
   "source": [
    "import numpy as np\n",
    "import matplotlib.pyplot as plt\n",
    "import sys\n",
    "sys.path.append('../gefera')\n",
    "import gefera as gf"
   ]
  },
  {
   "cell_type": "code",
   "execution_count": 2,
   "metadata": {},
   "outputs": [],
   "source": [
    "t = np.linspace(67.9, 68.6, 1000)\n",
    "#t2 = t1 + 365\n",
    "#t = np.hstack((t1, t2))\n",
    "\n",
    "ap = 1.0\n",
    "tp = 0.2\n",
    "ep = 0.2\n",
    "pp = 365\n",
    "wp = 0.1 * np.pi / 180\n",
    "ip = 90.0 * np.pi / 180\n",
    "\n",
    "am = 0.007\n",
    "tm = -2.15\n",
    "em = 0.1\n",
    "pm = 3\n",
    "om = 90 * np.pi / 180\n",
    "wm = 90 * np.pi / 180\n",
    "im = 90.0 * np.pi / 180\n",
    "mm = 0.01\n",
    "\n",
    "u1 = 0.5\n",
    "u2 = 0.3\n",
    "rp = 0.2\n",
    "rm = 0.1"
   ]
  },
  {
   "cell_type": "code",
   "execution_count": 3,
   "metadata": {},
   "outputs": [
    {
     "name": "stdout",
     "output_type": "stream",
     "text": [
      "CPU times: user 1.29 ms, sys: 742 µs, total: 2.03 ms\n",
      "Wall time: 1.16 ms\n"
     ]
    },
    {
     "ename": "NameError",
     "evalue": "name 'lightcurve' is not defined",
     "output_type": "error",
     "traceback": [
      "\u001b[0;31m---------------------------------------------------------------------------\u001b[0m",
      "\u001b[0;31mNameError\u001b[0m                                 Traceback (most recent call last)",
      "\u001b[0;32m<timed exec>\u001b[0m in \u001b[0;36m<module>\u001b[0;34m\u001b[0m\n",
      "\u001b[0;32m~/research/exomoon_transits/gefera/gefera.py\u001b[0m in \u001b[0;36mlightcurve\u001b[0;34m(self, t, u1, u2, r1, r2, grad, integrate, dt)\u001b[0m\n\u001b[1;32m    250\u001b[0m                 \u001b[0;32mreturn\u001b[0m \u001b[0mlc\u001b[0m\u001b[0;34m,\u001b[0m \u001b[0mgrad\u001b[0m\u001b[0;34m\u001b[0m\u001b[0;34m\u001b[0m\u001b[0m\n\u001b[1;32m    251\u001b[0m             \u001b[0;32melse\u001b[0m\u001b[0;34m:\u001b[0m\u001b[0;34m\u001b[0m\u001b[0;34m\u001b[0m\u001b[0m\n\u001b[0;32m--> 252\u001b[0;31m                 \u001b[0mfa\u001b[0m \u001b[0;34m=\u001b[0m \u001b[0mlightcurve\u001b[0m\u001b[0;34m(\u001b[0m\u001b[0mta\u001b[0m\u001b[0;34m,\u001b[0m \u001b[0mu1\u001b[0m\u001b[0;34m,\u001b[0m \u001b[0mu2\u001b[0m\u001b[0;34m,\u001b[0m \u001b[0mr1\u001b[0m\u001b[0;34m,\u001b[0m \u001b[0mr2\u001b[0m\u001b[0;34m)\u001b[0m\u001b[0;34m\u001b[0m\u001b[0;34m\u001b[0m\u001b[0m\n\u001b[0m\u001b[1;32m    253\u001b[0m                 \u001b[0mfb\u001b[0m \u001b[0;34m=\u001b[0m \u001b[0mlightcurve\u001b[0m\u001b[0;34m(\u001b[0m\u001b[0mtb\u001b[0m\u001b[0;34m,\u001b[0m \u001b[0mu1\u001b[0m\u001b[0;34m,\u001b[0m \u001b[0mu2\u001b[0m\u001b[0;34m,\u001b[0m \u001b[0mr1\u001b[0m\u001b[0;34m,\u001b[0m \u001b[0mr2\u001b[0m\u001b[0;34m)\u001b[0m\u001b[0;34m\u001b[0m\u001b[0;34m\u001b[0m\u001b[0m\n\u001b[1;32m    254\u001b[0m                 \u001b[0mlc\u001b[0m \u001b[0;34m=\u001b[0m \u001b[0;34m(\u001b[0m\u001b[0mfa\u001b[0m \u001b[0;34m+\u001b[0m \u001b[0mfb\u001b[0m\u001b[0;34m)\u001b[0m \u001b[0;34m/\u001b[0m \u001b[0;36m2\u001b[0m\u001b[0;34m\u001b[0m\u001b[0;34m\u001b[0m\u001b[0m\n",
      "\u001b[0;31mNameError\u001b[0m: name 'lightcurve' is not defined"
     ]
    },
    {
     "name": "stdout",
     "output_type": "stream",
     "text": [
      "CPU times: user 3.08 ms, sys: 850 µs, total: 3.93 ms\n",
      "Wall time: 4.02 ms\n"
     ]
    }
   ],
   "source": [
    "# figure out the lan/lop confusion \n",
    "po = gf.PrimaryOrbit(ap, tp, ep, pp, wp, ip)\n",
    "mo = gf.SatelliteOrbit(am, tm, em, pm, om, wm, im, mm)\n",
    "sys = gf.HierarchicalSystem(po, mo)\n",
    "\n",
    "%time lc_ng = sys.lightcurve(t, u1, u2, rp, rm)\n",
    "%time lc_ng_int = sys.lightcurve(t, u1, u2, rp, rm, integrate='trap', dt=0.1)\n",
    "%time lc, grad = sys.lightcurve(t, u1, u2, rp, rm, grad=True)"
   ]
  },
  {
   "cell_type": "code",
   "execution_count": null,
   "metadata": {},
   "outputs": [],
   "source": [
    "plt.plot(t, lc)\n",
    "plt.plot(t, lc_ng_int)"
   ]
  },
  {
   "cell_type": "code",
   "execution_count": null,
   "metadata": {},
   "outputs": [],
   "source": [
    "import animate\n",
    "\n",
    "fig, axs = plt.subplots(1, len(t[::100]))\n",
    "animate.snapshots(sys, axs, t[::100], rp, rm, ld_params=(0.5, 0.1));"
   ]
  },
  {
   "cell_type": "code",
   "execution_count": null,
   "metadata": {},
   "outputs": [],
   "source": [
    "edge = plt.Circle(\n",
    "            (0.005, -0.0), \n",
    "            radius=1.0, \n",
    "            color='w',\n",
    "            fill=False, \n",
    "            linewidth=4\n",
    "        )\n",
    "\n",
    "list(axs.values())[1:][0].imshow(np.random.randn(100, 100))"
   ]
  },
  {
   "cell_type": "code",
   "execution_count": null,
   "metadata": {},
   "outputs": [],
   "source": [
    "lower = [['67.9', '68', '68.1', '68.2', '68.3', '68.4', '68.5', '68.6']]\n",
    "outer = [[lower],\n",
    "          ['upper']]\n",
    "\n",
    "fig, axs = plt.subplot_mosaic(outer, figsize=(10, 7))\n",
    "\n",
    "axs['upper'].plot(t, lc + 1, linewidth=3, color='k')\n",
    "axs['upper'].grid()\n",
    "axs['upper'].tick_params(axis='both', which='major', labelsize=12)\n",
    "axs['upper'].set_xlabel('time (days)', fontsize=20)\n",
    "axs['upper'].set_ylabel('relative flux', fontsize=20)\n",
    "\n",
    "time = [67.9, 68.0, 68.1, 68.2, 68.3, 68.4, 68.5, 68.6]\n",
    "animate.snapshots(sys, list(axs.values())[:-1], time, rp, rm, ld_params=(u1, u2))\n",
    "axs['upper'].set_xlim(67.87, 68.638)\n",
    "plt.subplots_adjust(hspace=-0.3, top=1.2)\n",
    "plt.savefig('/Users/tgordon/Desktop/demo.pdf')"
   ]
  },
  {
   "cell_type": "code",
   "execution_count": null,
   "metadata": {},
   "outputs": [],
   "source": [
    "from matplotlib import cm\n",
    "fig, axs = plt.subplots(6, 3, figsize=(15, 15))\n",
    "axs = axs.flatten()\n",
    "\n",
    "names = [\n",
    "    r'$a_p$', r'$t_p$', r'$e_p$', r'$P_p$', r'$\\omega_p$', \n",
    "    r'$i_p$', r'$a_m$', r'$t_m$', r'$e_m$', r'$P_m$', \n",
    "    r'$\\Omega_m$', r'$\\omega_m$', r'$i_m$', r'$M_m$', \n",
    "    r'$r_p$', r'$r_m$', r'$u_1$', r'$u_2$'\n",
    "]\n",
    "\n",
    "lower_left = (0.06, 0.2)\n",
    "pos = [\n",
    "    None, \n",
    "    lower_left, \n",
    "    None, \n",
    "    lower_left, \n",
    "    None, \n",
    "    None, \n",
    "    None, \n",
    "    None, \n",
    "    None, \n",
    "    None, \n",
    "    None, \n",
    "    lower_left, \n",
    "    None, \n",
    "    lower_left, \n",
    "    lower_left, \n",
    "    None, \n",
    "    None, \n",
    "    None\n",
    "]\n",
    "\n",
    "moon_color = 'b'\n",
    "moon_alpha = 0.5\n",
    "planet_color = 'r'\n",
    "planet_alpha = 0.5\n",
    "star_color ='#ffae36'\n",
    "star_alpha = 0.75\n",
    "\n",
    "#axs[0].plot(t, lc, color='k', linewidth=2)\n",
    "for i, (name, gradient) in enumerate(list(grad.items())):\n",
    "    if i < 6:\n",
    "        color = planet_color\n",
    "        alpha = planet_alpha\n",
    "    elif i < 14:\n",
    "        color = moon_color\n",
    "        alpha = moon_alpha\n",
    "    else:\n",
    "        color = star_color\n",
    "        alpha = star_alpha\n",
    "        \n",
    "    if i == 14:\n",
    "        color = planet_color\n",
    "        alpha = planet_alpha\n",
    "    if i == 15:\n",
    "        color = moon_color\n",
    "        alpha = moon_alpha\n",
    "        \n",
    "    axs[i].plot(t, gradient, color='k', linewidth=4, alpha=1)\n",
    "    axs[i].plot(t, gradient, color='w', linewidth=2, alpha=1)\n",
    "    axs[i].plot(t, gradient, color=color, linewidth=2, alpha=alpha)\n",
    "        \n",
    "    if pos[i] is not None:\n",
    "        axs[i].annotate(names[i], xy=pos[i], xycoords='axes fraction', fontsize=20)\n",
    "    else:\n",
    "        axs[i].annotate(names[i], xy=(0.06, 0.8), xycoords='axes fraction', fontsize=20)\n",
    "\n",
    "[ax.axes.xaxis.set_visible(False) for ax in axs[:-3]]\n",
    "[ax.tick_params(axis='both', which='major', labelsize=12) for ax in axs]\n",
    "[ax.set_xlabel('time (days)', fontsize=15) for ax in axs[-3:]]\n",
    "#[ax.axes.yaxis.set_visible(False) for ax in axs]\n",
    "#axs[-1].axis('off')\n",
    "\n",
    "plt.subplots_adjust(wspace=0.3, hspace=0.2, bottom=0.05, top=0.95)\n",
    "plt.savefig('/Users/tgordon/Desktop/derivatives.pdf')"
   ]
  },
  {
   "cell_type": "code",
   "execution_count": null,
   "metadata": {},
   "outputs": [],
   "source": [
    "d = 0.000001\n",
    "\n",
    "moon = system.moon(0.05, am, t0m, em, Pm, Om, wm, im, mm)\n",
    "planet = system.planet(0.1, ap, t0p, ep, Pp, wp, ip)\n",
    "star = system.star(0.5, 0.5)\n",
    "sys = system.system(star, planet, moon)\n",
    "sys.compute(t)\n",
    "lc1 = sys._lc\n",
    "\n",
    "sys.compute(t, grad=True)\n",
    "lc = sys._lc\n",
    "\n",
    "moon = system.moon(0.05, am, t0m, em, Pm, Om, wm, im, mm)\n",
    "planet = system.planet(0.1, ap + d, t0p, ep, Pp, wp, ip)\n",
    "star = system.star(0.5, 0.5)\n",
    "sys = system.system(star, planet, moon)\n",
    "sys.compute(t)\n",
    "lc2 = sys._lc\n",
    "\n",
    "sys.compute(t, grad=True)\n",
    "grad = sys.grad()\n",
    "\n",
    "plt.plot(t, (lc2 - lc1)/d)\n",
    "plt.plot(t, grad['a_p'])"
   ]
  },
  {
   "cell_type": "code",
   "execution_count": null,
   "metadata": {},
   "outputs": [],
   "source": [
    "n = 2 * np.pi / Pp\n",
    "x = (1 - (1 - ep**2)) / (ep * (1 + ep * np.cos(np.pi * 0.5 - wp)))\n",
    "E = np.arccos(x)\n",
    "M = E - ep * np.sin(E)\n",
    "tt = M / n + t0p\n",
    "tt"
   ]
  },
  {
   "cell_type": "code",
   "execution_count": null,
   "metadata": {},
   "outputs": [],
   "source": [
    "t0p = tt - M / n"
   ]
  },
  {
   "cell_type": "code",
   "execution_count": null,
   "metadata": {},
   "outputs": [],
   "source": [
    "from kep import grad_impacts, impacts\n",
    "ms = ac.M_sun.value / ac.M_earth.value\n",
    "%time bp, bpm, theta, dbp, dbpm, dtheta = grad_impacts(t, ms, t0p, ep, Pp, Op, wp, ip, mp, t0m, em, Pm, Om, wm, im, mm)\n",
    "%time bp, bpm, theta = impacts(t, ms, t0p, ep, Pp, Op, wp, ip, mp, t0m, em, Pm, Om, wm, im, mm)"
   ]
  },
  {
   "cell_type": "code",
   "execution_count": null,
   "metadata": {},
   "outputs": [],
   "source": [
    "d = 0.000001\n",
    "ms = ac.M_sun.value / ac.M_earth.value\n",
    "bp1, bpm1, theta1 = impacts(t, ms, t0p, ep, Pp, Op, wp, ip, mp, t0m, em, Pm, Om, wm, im, mm)\n",
    "bp2, bpm2, theta2 = impacts(t, ms, t0p, ep, Pp, Op + d, wp, ip, mp, t0m, em, Pm, Om , wm, im, mm)\n",
    "bp3, bpm3, theta3 = impacts(t, ms, t0p, ep, Pp, Op - d, wp, ip, mp, t0m, em, Pm, Om , wm, im, mm)\n",
    "plt.plot(t, (bp2 - bp3)/(2 * d))\n",
    "plt.plot(t, dbp[:, 4])\n",
    "plt.figure()\n",
    "plt.plot(t, dbp[:, 4] - (bp2 - bp3)/(2 * d))"
   ]
  },
  {
   "cell_type": "code",
   "execution_count": null,
   "metadata": {},
   "outputs": [],
   "source": [
    "d = 0.0000000001\n",
    "bp1, bpm1, theta1 = input_coords(t, 1, t0p, ep, Pp, Op, wp, ip, mp, t0m, em, Pm, Om, wm, im, mm)\n",
    "bp2, bpm2, theta2 = input_coords(t, 1, t0p, ep, Pp, Op, wp, ip, mp + d, t0m, em, Pm, Om, wm, im, mm)\n",
    "plt.plot(t, dbp[:, 7])\n",
    "plt.plot(t, (bp2 - bp1)/d)\n",
    "plt.figure()\n",
    "plt.plot(t, dbp[:, 7] - (bp2 - bp1)/d)\n",
    "#plt.plot(t, (bpm1-bpm2)/d)\n",
    "#plt.plot(t, (theta1-theta2)/d)"
   ]
  },
  {
   "cell_type": "code",
   "execution_count": null,
   "metadata": {},
   "outputs": [],
   "source": []
  },
  {
   "cell_type": "code",
   "execution_count": null,
   "metadata": {},
   "outputs": [],
   "source": [
    "plt.plot(t, bp1)\n",
    "plt.plot(t, bp2)"
   ]
  },
  {
   "cell_type": "code",
   "execution_count": null,
   "metadata": {},
   "outputs": [],
   "source": [
    "plt.plot(t, bp2)\n",
    "plt.plot(t, bp1)"
   ]
  },
  {
   "cell_type": "code",
   "execution_count": null,
   "metadata": {},
   "outputs": [],
   "source": [
    "[plt.plot(t, dbp[:, i]) for i in range(15)];"
   ]
  },
  {
   "cell_type": "code",
   "execution_count": null,
   "metadata": {},
   "outputs": [],
   "source": [
    "star = system.star(1, 0.5, 0.5)\n",
    "planet = system.rock(0.1, 10, t0p, ep, Pp, Op, wp, ip)\n",
    "moon = system.rock(0.05, 5, t0m, em, Pm, Om, wm, im)\n",
    "sys = system.system(star, planet, moon)\n",
    "%time sys.compute(t)"
   ]
  },
  {
   "cell_type": "code",
   "execution_count": null,
   "metadata": {},
   "outputs": [],
   "source": [
    "plt.plot(t, sys.lightcurve())"
   ]
  },
  {
   "cell_type": "code",
   "execution_count": null,
   "metadata": {},
   "outputs": [],
   "source": [
    "plt.plot(t, sys.derivatives());"
   ]
  },
  {
   "cell_type": "code",
   "execution_count": null,
   "metadata": {},
   "outputs": [],
   "source": [
    "a = np.random.randn(15, 100000)\n",
    "b = np.random.randn(15, 100000)\n",
    "c = np.random.randn(15, 100000)\n",
    "d = np.random.randn(15, 100000)\n",
    "e = np.random.randn(15, 100000)\n",
    "f = np.random.randn(15, 100000)\n",
    "g = np.random.randn(15, 100000)\n",
    "h = np.random.randn(15, 100000)\n",
    "i = np.random.randn(15, 100000)\n",
    "j = np.random.randn(15, 100000)"
   ]
  },
  {
   "cell_type": "code",
   "execution_count": null,
   "metadata": {},
   "outputs": [],
   "source": [
    "j"
   ]
  },
  {
   "cell_type": "code",
   "execution_count": null,
   "metadata": {},
   "outputs": [],
   "source": [
    "mp = 10\n",
    "mm = 5"
   ]
  },
  {
   "cell_type": "code",
   "execution_count": null,
   "metadata": {},
   "outputs": [],
   "source": [
    "(1, 2, 3) + (4, 5, 6)"
   ]
  },
  {
   "cell_type": "code",
   "execution_count": null,
   "metadata": {},
   "outputs": [],
   "source": [
    "def testfunc(a, b, c, d, e, f):\n",
    "    return a + b + c + d + e + f"
   ]
  },
  {
   "cell_type": "code",
   "execution_count": null,
   "metadata": {},
   "outputs": [],
   "source": [
    "testfunc(*((1, 2, 3) + (4, 5, 6)))"
   ]
  },
  {
   "cell_type": "code",
   "execution_count": null,
   "metadata": {},
   "outputs": [],
   "source": [
    "from phot import flux"
   ]
  },
  {
   "cell_type": "code",
   "execution_count": null,
   "metadata": {},
   "outputs": [],
   "source": [
    "lc = flux(0.5, 0.5, 0.1, 0.05, bp, bpm, np.cos(theta), np.sin(theta))\n",
    "plt.plot(t, lc[:, 0])"
   ]
  },
  {
   "cell_type": "code",
   "execution_count": null,
   "metadata": {},
   "outputs": [],
   "source": [
    "dflux = lc[:, 3][:, None] * dbp + lc[:, 4][:, None] * dbpm + lc[:, 5][:, None] * dtheta"
   ]
  },
  {
   "cell_type": "code",
   "execution_count": null,
   "metadata": {},
   "outputs": [],
   "source": [
    "dflux"
   ]
  },
  {
   "cell_type": "code",
   "execution_count": null,
   "metadata": {},
   "outputs": [],
   "source": [
    "np.shape(np.hstack([np.ones(len(t))[:, None], dflux, np.ones(len(t))[:, None]]))"
   ]
  },
  {
   "cell_type": "code",
   "execution_count": null,
   "metadata": {},
   "outputs": [],
   "source": [
    "np.shape(dflux)"
   ]
  },
  {
   "cell_type": "code",
   "execution_count": null,
   "metadata": {},
   "outputs": [],
   "source": [
    "arr = np.vstack([np.array([1, 2, 3]), np.array([4, 5, 6])])\n",
    "names = ['line1', 'line2']"
   ]
  },
  {
   "cell_type": "code",
   "execution_count": null,
   "metadata": {},
   "outputs": [],
   "source": [
    "d = {}\n",
    "{names[i]: arr[i] for i in range(len(names))}"
   ]
  },
  {
   "cell_type": "code",
   "execution_count": null,
   "metadata": {},
   "outputs": [],
   "source": [
    "(1,) + (2, 3)"
   ]
  },
  {
   "cell_type": "code",
   "execution_count": null,
   "metadata": {},
   "outputs": [],
   "source": [
    "str(1)"
   ]
  },
  {
   "cell_type": "code",
   "execution_count": null,
   "metadata": {},
   "outputs": [],
   "source": []
  }
 ],
 "metadata": {
  "kernelspec": {
   "display_name": "Python 3",
   "language": "python",
   "name": "python3"
  },
  "language_info": {
   "codemirror_mode": {
    "name": "ipython",
    "version": 3
   },
   "file_extension": ".py",
   "mimetype": "text/x-python",
   "name": "python",
   "nbconvert_exporter": "python",
   "pygments_lexer": "ipython3",
   "version": "3.8.6"
  }
 },
 "nbformat": 4,
 "nbformat_minor": 4
}
