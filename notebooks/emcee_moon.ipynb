{
 "cells": [
  {
   "cell_type": "code",
   "execution_count": 1,
   "metadata": {},
   "outputs": [],
   "source": [
    "import numpy as np\n",
    "import matplotlib.pyplot as plt\n",
    "\n",
    "import sys\n",
    "sys.path.append('../gefera')\n",
    "import gefera as gf"
   ]
  },
  {
   "cell_type": "code",
   "execution_count": 2,
   "metadata": {},
   "outputs": [],
   "source": [
    "t = np.linspace(67.8, 68.8, 1000)\n",
    "#t2 = t1 + 365\n",
    "#t = np.hstack((t1, t2))\n",
    "\n",
    "ap = 1.0\n",
    "tp = 0.2\n",
    "ep = 0.2\n",
    "pp = 365\n",
    "wp = 0.1 * np.pi / 180\n",
    "ip = 90.0 * np.pi / 180\n",
    "\n",
    "am = 0.007\n",
    "tm = -1.3\n",
    "em = 0.1\n",
    "pm = 3\n",
    "om = 0.1 * np.pi / 180\n",
    "wm = 90 * np.pi / 180\n",
    "im = 88.0 * np.pi / 180\n",
    "mm = 0.01\n",
    "\n",
    "u1 = 0.5\n",
    "u2 = 0.3\n",
    "rp = 0.2\n",
    "rm = 0.1"
   ]
  },
  {
   "cell_type": "code",
   "execution_count": 11,
   "metadata": {},
   "outputs": [
    {
     "name": "stdout",
     "output_type": "stream",
     "text": [
      "CPU times: user 802 µs, sys: 334 µs, total: 1.14 ms\n",
      "Wall time: 658 µs\n",
      "CPU times: user 1.89 ms, sys: 953 µs, total: 2.85 ms\n",
      "Wall time: 2.32 ms\n"
     ]
    }
   ],
   "source": [
    "po = gf.PrimaryOrbit(ap, tp, ep, pp, wp, ip)\n",
    "mo = gf.SatelliteOrbit(am, tm, em, pm, om, wm, im, mm)\n",
    "sys = gf.HierarchicalSystem(po, mo)\n",
    "%time lc_ng = sys.lightcurve(t, u1, u2, rp, rm)\n",
    "%time lc = sys.lightcurve(t, u1, u2, rp, rm, grad=True)[0]\n",
    "y = lc + np.random.randn(len(lc)) * 0.01"
   ]
  },
  {
   "cell_type": "code",
   "execution_count": 12,
   "metadata": {},
   "outputs": [
    {
     "data": {
      "text/plain": [
       "[<matplotlib.lines.Line2D at 0x115ee0fa0>]"
      ]
     },
     "execution_count": 12,
     "metadata": {},
     "output_type": "execute_result"
    },
    {
     "data": {
      "image/png": "[encoded data removed]",
      "text/plain": [
       "<Figure size 432x288 with 1 Axes>"
      ]
     },
     "metadata": {
      "needs_background": "light"
     },
     "output_type": "display_data"
    }
   ],
   "source": [
    "plt.plot(t, lc)\n",
    "plt.plot(t, lc_ng)"
   ]
  },
  {
   "cell_type": "code",
   "execution_count": null,
   "metadata": {},
   "outputs": [],
   "source": [
    "uniform = lambda x, l, u: 0.0 if ((x > l) & (x < u)) else -np.inf\n",
    "\n",
    "def log_prior(args):\n",
    "    \n",
    "    lsigma, rp, rm, u1, u2, ab, tb, eb, pb, wb, ib, am, tm, em, pm, om, wm, im, mm = args\n",
    "    \n",
    "    prior = 0.0 if rm < rp and u1 + u2 < 1 and u1 > 0 and u1 + 2 * u2 > 0 else -np.inf\n",
    "    \n",
    "    return (prior \n",
    "            + uniform(lsigma, np.log(0.001), np.log(0.1))\n",
    "            + uniform(rp, 0., 0.5)\n",
    "            + uniform(rm, 0.0, 0.5)\n",
    "            + uniform(ab, 0.5, 1.5)\n",
    "            + uniform(tb, 0.1, 0.3)\n",
    "            + uniform(eb, 0.0, 1.0)\n",
    "            + uniform(pb, 300, 400)\n",
    "            + uniform(wb, -0.0001, 0.5)\n",
    "            + uniform(ib, 85 * np.pi / 180, 90.1 * np.pi / 180)\n",
    "            + uniform(am, 0.0, 0.5)\n",
    "            + uniform(tm, -5.0, 0.0)\n",
    "            + uniform(em, 0.0, 1.0)\n",
    "            + uniform(pm, 0.0, 5.0)\n",
    "            + uniform(om, 0.0, 0.5)\n",
    "            + uniform(wm, 0.0, np.pi)\n",
    "            + uniform(im, 0.0, np.pi / 2)\n",
    "            + uniform(mm, 0.0, 1.0)\n",
    "    )\n",
    "\n",
    "def log_like(args, y):\n",
    "    \n",
    "    lsigma, rp, rm, u1, u2, ab, tb, eb, pb, wb, ib, am, tm, em, pm, om, wm, im, mm = args\n",
    "    po = gf.PrimaryOrbit(ab, tb, eb, pb, wb, ib)\n",
    "    mo = gf.SatelliteOrbit(am, tm, em, pm, om, wm, im, mm)\n",
    "    sys = gf.HierarchicalSystem(po, mo)\n",
    "    return sys.loglike(y, t, u1, u2, rp, rm, np.exp(lsigma))\n",
    "\n",
    "def log_prob(args, y):\n",
    "    lp = log_prior(args)\n",
    "    ll = log_like(args, y)\n",
    "    if np.isfinite(ll):\n",
    "        return lp + ll\n",
    "    else:\n",
    "        return -np.inf"
   ]
  },
  {
   "cell_type": "code",
   "execution_count": null,
   "metadata": {},
   "outputs": [],
   "source": [
    "import emcee\n",
    "\n",
    "init_params = [np.log(0.01), rp, rm, 0.5, 0.3, ap, tp, ep, pp, wp, ip, am, tm, em, pm, om, wm, im, mm]\n",
    "pos = init_params + 1e-4 * np.random.randn(50, len(init_params))\n",
    "nwalkers, ndim = pos.shape\n",
    "\n",
    "sampler = emcee.EnsembleSampler(\n",
    "    nwalkers, ndim, log_prob, args=(y,)\n",
    ")\n",
    "sampler.run_mcmc(pos, 5000, progress=True);"
   ]
  },
  {
   "cell_type": "code",
   "execution_count": null,
   "metadata": {},
   "outputs": [],
   "source": [
    "import corner\n",
    "\n",
    "flat_samples = sampler.get_chain(discard=2000, thin=15, flat=True)\n",
    "fig = corner.corner(\n",
    "    flat_samples, \n",
    "    labels=[\n",
    "        'sigma', \n",
    "        'rp', \n",
    "        'rm', \n",
    "        'u1', \n",
    "        'u2', \n",
    "        'ab', \n",
    "        'tb', \n",
    "        'eb', \n",
    "        'pb', \n",
    "        'wb', \n",
    "        'ib', \n",
    "        'am', \n",
    "        'tm', \n",
    "        'em', \n",
    "        'pm', \n",
    "        'om', \n",
    "        'wm', \n",
    "        'im', \n",
    "        'mm'\n",
    "    ]\n",
    ");"
   ]
  },
  {
   "cell_type": "code",
   "execution_count": null,
   "metadata": {},
   "outputs": [],
   "source": [
    "n = 1000\n",
    "inds = np.random.randint(len(flat_samples), size=n)\n",
    "samps = flat_samples[inds]\n",
    "\n",
    "def getlc(*args):\n",
    "    _, rp, rm, u1, u2, ab, tb, eb, pb, wb, ib, am, tm, em, pm, om, wm, im, mm = args\n",
    "    po = gf.PrimaryOrbit(ab, tb, eb, pb, wb, ib)\n",
    "    mo = gf.SatelliteOrbit(am, tm, em, pm, om, wm, im, mm)\n",
    "    sys = gf.HierarchicalSystem(po, mo)\n",
    "    return sys.lightcurve(t, u1, u2, rp, rm)\n",
    "\n",
    "\n",
    "plt.figure(figsize=(10, 10))\n",
    "for i in range(n):\n",
    "    samp = getlc(*samps[i])\n",
    "    plt.plot(t, samp, color='r', linewidth=2, alpha=0.1)\n",
    "    \n",
    "plt.plot(t, y, 'bo', alpha=0.3)\n",
    "plt.plot(t, lc, 'k-', linewidth=2)\n",
    "\n",
    "#plt.xlim(67.8, 68.8)\n",
    "plt.savefig('/Users/tgordon/Desktop/emcee_tmp.pdf')\n",
    "#plt.xlim(67.8 + 365, 68.8 + 365)\n",
    "#plt.savefig('/Users/tgordon/Desktop/emcee2.pdf')"
   ]
  },
  {
   "cell_type": "code",
   "execution_count": null,
   "metadata": {},
   "outputs": [],
   "source": []
  }
 ],
 "metadata": {
  "kernelspec": {
   "display_name": "Python 3",
   "language": "python",
   "name": "python3"
  },
  "language_info": {
   "codemirror_mode": {
    "name": "ipython",
    "version": 3
   },
   "file_extension": ".py",
   "mimetype": "text/x-python",
   "name": "python",
   "nbconvert_exporter": "python",
   "pygments_lexer": "ipython3",
   "version": "3.8.6"
  }
 },
 "nbformat": 4,
 "nbformat_minor": 4
}
