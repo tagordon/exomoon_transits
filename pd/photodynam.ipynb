{
 "cells": [
  {
   "cell_type": "code",
   "execution_count": 1,
   "metadata": {},
   "outputs": [],
   "source": [
    "import sys\n",
    "sys.path.append('../gefera')\n",
    "import gefera as gf\n",
    "from pd import flux"
   ]
  },
  {
   "cell_type": "code",
   "execution_count": 2,
   "metadata": {},
   "outputs": [],
   "source": [
    "t = np.linspace(67.8, 68.8, 10000)\n",
    "\n",
    "ap = 1.0\n",
    "tp = 0.2\n",
    "ep = 0.2\n",
    "pp = 365\n",
    "wp = 0.1 * np.pi / 180\n",
    "ip = 90.0 * np.pi / 180\n",
    "\n",
    "am = 0.007\n",
    "tm = -1.9\n",
    "em = 0.1\n",
    "pm = 5\n",
    "om = 20 * np.pi / 180\n",
    "wm = 90 * np.pi / 180\n",
    "im = 89.0 * np.pi / 180\n",
    "mm = 0.5\n",
    "\n",
    "u1 = 0.5\n",
    "u2 = 0.3\n",
    "rp = 0.2\n",
    "rm = 0.1\n",
    "\n",
    "po = gf.BarycenterOrbit(ap, tp, ep, pp, wp, ip)\n",
    "mo = gf.MoonOrbit(am, tm, em, pm, om, wm, im, mm)\n",
    "sys = gf.System(po, mo)\n",
    "p, m = sys.coords(t)\n",
    "xp, yp, _ = p\n",
    "xm, ym, _ = m"
   ]
  },
  {
   "cell_type": "code",
   "execution_count": 3,
   "metadata": {},
   "outputs": [
    {
     "name": "stdout",
     "output_type": "stream",
     "text": [
      "CPU times: user 38.5 ms, sys: 1.8 ms, total: 40.3 ms\n",
      "Wall time: 40.7 ms\n"
     ]
    }
   ],
   "source": [
    "%time f = flux(xp, yp, xm, ym, rp, rm, u1, u2)"
   ]
  },
  {
   "cell_type": "code",
   "execution_count": null,
   "metadata": {},
   "outputs": [],
   "source": [
    "def photodynam_flux(xp, yp, xm, ym, rp, rm, u1, u2):\n",
    "\n",
    "    j = len(xp)\n",
    "    xp = (ctypes.c_double * j).from_buffer(xp)\n",
    "    yp = (ctypes.c_double * j).from_buffer(yp)\n",
    "    xm = (ctypes.c_double * j).from_buffer(xm)\n",
    "    ym = (ctypes.c_double * j).from_buffer(ym)\n",
    "    f = (ctypes.c_double * j).from_buffer(np.zeros(j))\n",
    "    j = ctypes.c_int(j)\n",
    "\n",
    "    rp = ctypes.c_double(rp)\n",
    "    rm = ctypes.c_double(rm)\n",
    "    u1 = ctypes.c_double(u1)\n",
    "    u2 = ctypes.c_double(u2)\n",
    "\n",
    "    clib.flux.restype = None\n",
    "    clib.flux(f, xp, yp, xm, ym, rp, rm, u1, u2, j)\n",
    "    return np.array(f)"
   ]
  },
  {
   "cell_type": "code",
   "execution_count": null,
   "metadata": {},
   "outputs": [],
   "source": [
    "%time f = photodynam_flux(xp, yp, xm, ym, rp, rm, u1, u2)"
   ]
  },
  {
   "cell_type": "code",
   "execution_count": null,
   "metadata": {},
   "outputs": [],
   "source": [
    "plt.plot(t, f)"
   ]
  },
  {
   "cell_type": "code",
   "execution_count": null,
   "metadata": {},
   "outputs": [],
   "source": []
  }
 ],
 "metadata": {
  "kernelspec": {
   "display_name": "Python 3",
   "language": "python",
   "name": "python3"
  },
  "language_info": {
   "codemirror_mode": {
    "name": "ipython",
    "version": 3
   },
   "file_extension": ".py",
   "mimetype": "text/x-python",
   "name": "python",
   "nbconvert_exporter": "python",
   "pygments_lexer": "ipython3",
   "version": "3.8.6"
  }
 },
 "nbformat": 4,
 "nbformat_minor": 4
}
